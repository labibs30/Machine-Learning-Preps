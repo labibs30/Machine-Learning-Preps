{
  "cells": [
    {
      "cell_type": "markdown",
      "metadata": {
        "id": "view-in-github",
        "colab_type": "text"
      },
      "source": [
        "<a href=\"https://colab.research.google.com/github/labibs30/Machine-Learning-Preps/blob/main/01_neural_networks_regression.ipynb\" target=\"_parent\"><img src=\"https://colab.research.google.com/assets/colab-badge.svg\" alt=\"Open In Colab\"/></a>"
      ]
    },
    {
      "cell_type": "markdown",
      "metadata": {
        "id": "J_098ypMKdWN"
      },
      "source": []
    },
    {
      "cell_type": "code",
      "execution_count": null,
      "metadata": {
        "colab": {
          "background_save": true,
          "base_uri": "https://localhost:8080/"
        },
        "id": "FeG-abTsLNP8",
        "outputId": "3d71e643-8929-40ad-c0a0-ec28e8378711"
      },
      "outputs": [
        {
          "name": "stdout",
          "output_type": "stream",
          "text": [
            "2.13.0\n"
          ]
        }
      ],
      "source": [
        "# Import Tensorflow\n",
        "import tensorflow as tf\n",
        "import numpy as np\n",
        "print(tf.__version__)"
      ]
    },
    {
      "cell_type": "code",
      "execution_count": null,
      "metadata": {
        "colab": {
          "background_save": true
        },
        "id": "2KUHcaSzLpeI"
      },
      "outputs": [],
      "source": [
        "import matplotlib.pyplot as plt\n"
      ]
    },
    {
      "cell_type": "code",
      "execution_count": null,
      "metadata": {
        "colab": {
          "background_save": true,
          "base_uri": "https://localhost:8080/",
          "height": 452
        },
        "id": "hLKpeSO4LQnu",
        "outputId": "d9669847-e65a-4622-9963-853775ad12aa"
      },
      "outputs": [
        {
          "data": {
            "text/plain": [
              "<matplotlib.collections.PathCollection at 0x7ea2c9e98f10>"
            ]
          },
          "execution_count": 3,
          "metadata": {},
          "output_type": "execute_result"
        },
        {
          "data": {
            "image/png": "[encoded data removed]",
            "text/plain": [
              "<Figure size 640x480 with 1 Axes>"
            ]
          },
          "metadata": {},
          "output_type": "display_data"
        }
      ],
      "source": [
        "X= np.array([-7.0,-4.0,-1.0,2.0,5.0,8.0,11.0,14.0])\n",
        "Y = np.array([3.0,6.0,9.0,12.0,15.0,18.0,21.0,24.0])\n",
        "\n",
        "plt.scatter(X,Y)"
      ]
    },
    {
      "cell_type": "code",
      "execution_count": null,
      "metadata": {
        "colab": {
          "background_save": true,
          "base_uri": "https://localhost:8080/"
        },
        "id": "FgKZ2UM4QV9h",
        "outputId": "c7fefa59-c09c-42c6-be6b-b363924d3c93"
      },
      "outputs": [
        {
          "data": {
            "text/plain": [
              "(<tf.Tensor: shape=(3,), dtype=string, numpy=array([b'bedroom', b'bathroom', b'garage'], dtype=object)>,\n",
              " <tf.Tensor: shape=(1,), dtype=int32, numpy=array([939750], dtype=int32)>)"
            ]
          },
          "execution_count": 4,
          "metadata": {},
          "output_type": "execute_result"
        }
      ],
      "source": [
        "house_info = tf.constant([\"bedroom\",\"bathroom\",\"garage\"])\n",
        "house_price = tf.constant([939750])\n",
        "house_info, house_price"
      ]
    },
    {
      "cell_type": "code",
      "execution_count": null,
      "metadata": {
        "colab": {
          "background_save": true
        },
        "id": "rrDDkQrYSNlo"
      },
      "outputs": [],
      "source": [
        "# Step in Modelling with Tensorflow\n",
        "\n",
        "# 1. Creating a model -\n",
        "# 2. Compiling the model\n",
        "# 3. Fitting the model\n"
      ]
    },
    {
      "cell_type": "code",
      "execution_count": null,
      "metadata": {
        "colab": {
          "background_save": true,
          "base_uri": "https://localhost:8080/"
        },
        "id": "cMm-T5xDVRLD",
        "outputId": "0f999830-5fc2-4232-c757-33bd13811824"
      },
      "outputs": [
        {
          "data": {
            "text/plain": [
              "(<tf.Tensor: shape=(8,), dtype=float32, numpy=array([-7., -4., -1.,  2.,  5.,  8., 11., 14.], dtype=float32)>,\n",
              " <tf.Tensor: shape=(8,), dtype=float32, numpy=array([ 3.,  6.,  9., 12., 15., 18., 21., 24.], dtype=float32)>)"
            ]
          },
          "execution_count": 6,
          "metadata": {},
          "output_type": "execute_result"
        }
      ],
      "source": [
        "X = tf.cast(tf.constant(X), dtype=tf.float32)\n",
        "Y = tf.cast(tf.constant(Y), dtype=tf.float32)\n",
        "X,Y"
      ]
    },
    {
      "cell_type": "code",
      "execution_count": null,
      "metadata": {
        "colab": {
          "background_save": true,
          "base_uri": "https://localhost:8080/"
        },
        "id": "BRCPAQTiTRYb",
        "outputId": "342762de-aff9-40b5-cccf-5dc5d09c4b2b"
      },
      "outputs": [
        {
          "name": "stdout",
          "output_type": "stream",
          "text": [
            "Epoch 1/200\n",
            "1/1 [==============================] - 1s 1s/step - loss: 13.6129 - mae: 13.6129\n",
            "Epoch 2/200\n",
            "1/1 [==============================] - 0s 11ms/step - loss: 13.1012 - mae: 13.1012\n",
            "Epoch 3/200\n",
            "1/1 [==============================] - 0s 10ms/step - loss: 12.5884 - mae: 12.5884\n",
            "Epoch 4/200\n",
            "1/1 [==============================] - 0s 13ms/step - loss: 12.0714 - mae: 12.0714\n",
            "Epoch 5/200\n",
            "1/1 [==============================] - 0s 12ms/step - loss: 11.5471 - mae: 11.5471\n",
            "Epoch 6/200\n",
            "1/1 [==============================] - 0s 10ms/step - loss: 11.0128 - mae: 11.0128\n",
            "Epoch 7/200\n",
            "1/1 [==============================] - 0s 12ms/step - loss: 10.4652 - mae: 10.4652\n",
            "Epoch 8/200\n",
            "1/1 [==============================] - 0s 8ms/step - loss: 9.9009 - mae: 9.9009\n",
            "Epoch 9/200\n",
            "1/1 [==============================] - 0s 11ms/step - loss: 9.3168 - mae: 9.3168\n",
            "Epoch 10/200\n",
            "1/1 [==============================] - 0s 11ms/step - loss: 8.7095 - mae: 8.7095\n",
            "Epoch 11/200\n",
            "1/1 [==============================] - 0s 20ms/step - loss: 8.0757 - mae: 8.0757\n",
            "Epoch 12/200\n",
            "1/1 [==============================] - 0s 13ms/step - loss: 7.4120 - mae: 7.4120\n",
            "Epoch 13/200\n",
            "1/1 [==============================] - 0s 11ms/step - loss: 7.2396 - mae: 7.2396\n",
            "Epoch 14/200\n",
            "1/1 [==============================] - 0s 10ms/step - loss: 7.5993 - mae: 7.5993\n",
            "Epoch 15/200\n",
            "1/1 [==============================] - 0s 12ms/step - loss: 7.9315 - mae: 7.9315\n",
            "Epoch 16/200\n",
            "1/1 [==============================] - 0s 11ms/step - loss: 8.2121 - mae: 8.2121\n",
            "Epoch 17/200\n",
            "1/1 [==============================] - 0s 11ms/step - loss: 8.3122 - mae: 8.3122\n",
            "Epoch 18/200\n",
            "1/1 [==============================] - 0s 11ms/step - loss: 8.2000 - mae: 8.2000\n",
            "Epoch 19/200\n",
            "1/1 [==============================] - 0s 14ms/step - loss: 7.9524 - mae: 7.9524\n",
            "Epoch 20/200\n",
            "1/1 [==============================] - 0s 11ms/step - loss: 7.7526 - mae: 7.7526\n",
            "Epoch 21/200\n",
            "1/1 [==============================] - 0s 11ms/step - loss: 7.5245 - mae: 7.5245\n",
            "Epoch 22/200\n",
            "1/1 [==============================] - 0s 11ms/step - loss: 7.2749 - mae: 7.2749\n",
            "Epoch 23/200\n",
            "1/1 [==============================] - 0s 12ms/step - loss: 7.0453 - mae: 7.0453\n",
            "Epoch 24/200\n",
            "1/1 [==============================] - 0s 11ms/step - loss: 7.0338 - mae: 7.0338\n",
            "Epoch 25/200\n",
            "1/1 [==============================] - 0s 13ms/step - loss: 7.0216 - mae: 7.0216\n",
            "Epoch 26/200\n",
            "1/1 [==============================] - 0s 12ms/step - loss: 7.1722 - mae: 7.1722\n",
            "Epoch 27/200\n",
            "1/1 [==============================] - 0s 13ms/step - loss: 7.2753 - mae: 7.2753\n",
            "Epoch 28/200\n",
            "1/1 [==============================] - 0s 14ms/step - loss: 7.2896 - mae: 7.2896\n",
            "Epoch 29/200\n",
            "1/1 [==============================] - 0s 11ms/step - loss: 7.2270 - mae: 7.2270\n",
            "Epoch 30/200\n",
            "1/1 [==============================] - 0s 11ms/step - loss: 7.0963 - mae: 7.0963\n",
            "Epoch 31/200\n",
            "1/1 [==============================] - 0s 12ms/step - loss: 6.9037 - mae: 6.9037\n",
            "Epoch 32/200\n",
            "1/1 [==============================] - 0s 13ms/step - loss: 6.8650 - mae: 6.8650\n",
            "Epoch 33/200\n",
            "1/1 [==============================] - 0s 12ms/step - loss: 6.8335 - mae: 6.8335\n",
            "Epoch 34/200\n",
            "1/1 [==============================] - 0s 11ms/step - loss: 6.8018 - mae: 6.8018\n",
            "Epoch 35/200\n",
            "1/1 [==============================] - 0s 11ms/step - loss: 6.9060 - mae: 6.9060\n",
            "Epoch 36/200\n",
            "1/1 [==============================] - 0s 11ms/step - loss: 6.9634 - mae: 6.9634\n",
            "Epoch 37/200\n",
            "1/1 [==============================] - 0s 14ms/step - loss: 6.9705 - mae: 6.9705\n",
            "Epoch 38/200\n",
            "1/1 [==============================] - 0s 14ms/step - loss: 6.9323 - mae: 6.9323\n",
            "Epoch 39/200\n",
            "1/1 [==============================] - 0s 9ms/step - loss: 6.8538 - mae: 6.8538\n",
            "Epoch 40/200\n",
            "1/1 [==============================] - 0s 13ms/step - loss: 6.7404 - mae: 6.7404\n",
            "Epoch 41/200\n",
            "1/1 [==============================] - 0s 10ms/step - loss: 6.6435 - mae: 6.6435\n",
            "Epoch 42/200\n",
            "1/1 [==============================] - 0s 10ms/step - loss: 6.6285 - mae: 6.6285\n",
            "Epoch 43/200\n",
            "1/1 [==============================] - 0s 11ms/step - loss: 6.6123 - mae: 6.6123\n",
            "Epoch 44/200\n",
            "1/1 [==============================] - 0s 11ms/step - loss: 6.5952 - mae: 6.5952\n",
            "Epoch 45/200\n",
            "1/1 [==============================] - 0s 9ms/step - loss: 6.5770 - mae: 6.5770\n",
            "Epoch 46/200\n",
            "1/1 [==============================] - 0s 11ms/step - loss: 6.5661 - mae: 6.5661\n",
            "Epoch 47/200\n",
            "1/1 [==============================] - 0s 10ms/step - loss: 6.5360 - mae: 6.5360\n",
            "Epoch 48/200\n",
            "1/1 [==============================] - 0s 10ms/step - loss: 6.5024 - mae: 6.5024\n",
            "Epoch 49/200\n",
            "1/1 [==============================] - 0s 10ms/step - loss: 6.4714 - mae: 6.4714\n",
            "Epoch 50/200\n",
            "1/1 [==============================] - 0s 11ms/step - loss: 6.4399 - mae: 6.4399\n",
            "Epoch 51/200\n",
            "1/1 [==============================] - 0s 11ms/step - loss: 6.4078 - mae: 6.4078\n",
            "Epoch 52/200\n",
            "1/1 [==============================] - 0s 10ms/step - loss: 6.3751 - mae: 6.3751\n",
            "Epoch 53/200\n",
            "1/1 [==============================] - 0s 10ms/step - loss: 6.3418 - mae: 6.3418\n",
            "Epoch 54/200\n",
            "1/1 [==============================] - 0s 10ms/step - loss: 6.3077 - mae: 6.3077\n",
            "Epoch 55/200\n",
            "1/1 [==============================] - 0s 9ms/step - loss: 6.3080 - mae: 6.3080\n",
            "Epoch 56/200\n",
            "1/1 [==============================] - 0s 10ms/step - loss: 6.2867 - mae: 6.2867\n",
            "Epoch 57/200\n",
            "1/1 [==============================] - 0s 10ms/step - loss: 6.2215 - mae: 6.2215\n",
            "Epoch 58/200\n",
            "1/1 [==============================] - 0s 10ms/step - loss: 6.1964 - mae: 6.1964\n",
            "Epoch 59/200\n",
            "1/1 [==============================] - 0s 10ms/step - loss: 6.1735 - mae: 6.1735\n",
            "Epoch 60/200\n",
            "1/1 [==============================] - 0s 10ms/step - loss: 6.1489 - mae: 6.1489\n",
            "Epoch 61/200\n",
            "1/1 [==============================] - 0s 11ms/step - loss: 6.1225 - mae: 6.1225\n",
            "Epoch 62/200\n",
            "1/1 [==============================] - 0s 10ms/step - loss: 6.0943 - mae: 6.0943\n",
            "Epoch 63/200\n",
            "1/1 [==============================] - 0s 12ms/step - loss: 6.0644 - mae: 6.0644\n",
            "Epoch 64/200\n",
            "1/1 [==============================] - 0s 10ms/step - loss: 6.0327 - mae: 6.0327\n",
            "Epoch 65/200\n",
            "1/1 [==============================] - 0s 10ms/step - loss: 5.9993 - mae: 5.9993\n",
            "Epoch 66/200\n",
            "1/1 [==============================] - 0s 10ms/step - loss: 5.9641 - mae: 5.9641\n",
            "Epoch 67/200\n",
            "1/1 [==============================] - 0s 10ms/step - loss: 5.9270 - mae: 5.9270\n",
            "Epoch 68/200\n",
            "1/1 [==============================] - 0s 10ms/step - loss: 5.8882 - mae: 5.8882\n",
            "Epoch 69/200\n",
            "1/1 [==============================] - 0s 10ms/step - loss: 5.8474 - mae: 5.8474\n",
            "Epoch 70/200\n",
            "1/1 [==============================] - 0s 11ms/step - loss: 5.8046 - mae: 5.8046\n",
            "Epoch 71/200\n",
            "1/1 [==============================] - 0s 11ms/step - loss: 5.7599 - mae: 5.7599\n",
            "Epoch 72/200\n",
            "1/1 [==============================] - 0s 11ms/step - loss: 5.7130 - mae: 5.7130\n",
            "Epoch 73/200\n",
            "1/1 [==============================] - 0s 11ms/step - loss: 5.6639 - mae: 5.6639\n",
            "Epoch 74/200\n",
            "1/1 [==============================] - 0s 11ms/step - loss: 5.6125 - mae: 5.6125\n",
            "Epoch 75/200\n",
            "1/1 [==============================] - 0s 11ms/step - loss: 5.5588 - mae: 5.5588\n",
            "Epoch 76/200\n",
            "1/1 [==============================] - 0s 10ms/step - loss: 5.5025 - mae: 5.5025\n",
            "Epoch 77/200\n",
            "1/1 [==============================] - 0s 15ms/step - loss: 5.4708 - mae: 5.4708\n",
            "Epoch 78/200\n",
            "1/1 [==============================] - 0s 10ms/step - loss: 5.4090 - mae: 5.4090\n",
            "Epoch 79/200\n",
            "1/1 [==============================] - 0s 10ms/step - loss: 5.3479 - mae: 5.3479\n",
            "Epoch 80/200\n",
            "1/1 [==============================] - 0s 13ms/step - loss: 5.2995 - mae: 5.2995\n",
            "Epoch 81/200\n",
            "1/1 [==============================] - 0s 10ms/step - loss: 5.2471 - mae: 5.2471\n",
            "Epoch 82/200\n",
            "1/1 [==============================] - 0s 11ms/step - loss: 5.1906 - mae: 5.1906\n",
            "Epoch 83/200\n",
            "1/1 [==============================] - 0s 14ms/step - loss: 5.1299 - mae: 5.1299\n",
            "Epoch 84/200\n",
            "1/1 [==============================] - 0s 11ms/step - loss: 5.0651 - mae: 5.0651\n",
            "Epoch 85/200\n",
            "1/1 [==============================] - 0s 10ms/step - loss: 4.9960 - mae: 4.9960\n",
            "Epoch 86/200\n",
            "1/1 [==============================] - 0s 10ms/step - loss: 4.9225 - mae: 4.9225\n",
            "Epoch 87/200\n",
            "1/1 [==============================] - 0s 10ms/step - loss: 4.8443 - mae: 4.8443\n",
            "Epoch 88/200\n",
            "1/1 [==============================] - 0s 10ms/step - loss: 4.7615 - mae: 4.7615\n",
            "Epoch 89/200\n",
            "1/1 [==============================] - 0s 10ms/step - loss: 4.6737 - mae: 4.6737\n",
            "Epoch 90/200\n",
            "1/1 [==============================] - 0s 10ms/step - loss: 4.5807 - mae: 4.5807\n",
            "Epoch 91/200\n",
            "1/1 [==============================] - 0s 10ms/step - loss: 4.5114 - mae: 4.5114\n",
            "Epoch 92/200\n",
            "1/1 [==============================] - 0s 10ms/step - loss: 4.3935 - mae: 4.3935\n",
            "Epoch 93/200\n",
            "1/1 [==============================] - 0s 10ms/step - loss: 4.2980 - mae: 4.2980\n",
            "Epoch 94/200\n",
            "1/1 [==============================] - 0s 10ms/step - loss: 4.1958 - mae: 4.1958\n",
            "Epoch 95/200\n",
            "1/1 [==============================] - 0s 10ms/step - loss: 4.0865 - mae: 4.0865\n",
            "Epoch 96/200\n",
            "1/1 [==============================] - 0s 10ms/step - loss: 3.9787 - mae: 3.9787\n",
            "Epoch 97/200\n",
            "1/1 [==============================] - 0s 10ms/step - loss: 3.8632 - mae: 3.8632\n",
            "Epoch 98/200\n",
            "1/1 [==============================] - 0s 16ms/step - loss: 3.7478 - mae: 3.7478\n",
            "Epoch 99/200\n",
            "1/1 [==============================] - 0s 11ms/step - loss: 3.6237 - mae: 3.6237\n",
            "Epoch 100/200\n",
            "1/1 [==============================] - 0s 10ms/step - loss: 3.4904 - mae: 3.4904\n",
            "Epoch 101/200\n",
            "1/1 [==============================] - 0s 15ms/step - loss: 3.3478 - mae: 3.3478\n",
            "Epoch 102/200\n",
            "1/1 [==============================] - 0s 12ms/step - loss: 3.1955 - mae: 3.1955\n",
            "Epoch 103/200\n",
            "1/1 [==============================] - 0s 10ms/step - loss: 3.0331 - mae: 3.0331\n",
            "Epoch 104/200\n",
            "1/1 [==============================] - 0s 10ms/step - loss: 2.8602 - mae: 2.8602\n",
            "Epoch 105/200\n",
            "1/1 [==============================] - 0s 10ms/step - loss: 2.6761 - mae: 2.6761\n",
            "Epoch 106/200\n",
            "1/1 [==============================] - 0s 10ms/step - loss: 2.4880 - mae: 2.4880\n",
            "Epoch 107/200\n",
            "1/1 [==============================] - 0s 11ms/step - loss: 2.2965 - mae: 2.2965\n",
            "Epoch 108/200\n",
            "1/1 [==============================] - 0s 11ms/step - loss: 2.0990 - mae: 2.0990\n",
            "Epoch 109/200\n",
            "1/1 [==============================] - 0s 11ms/step - loss: 1.9314 - mae: 1.9314\n",
            "Epoch 110/200\n",
            "1/1 [==============================] - 0s 11ms/step - loss: 1.6942 - mae: 1.6942\n",
            "Epoch 111/200\n",
            "1/1 [==============================] - 0s 11ms/step - loss: 1.5059 - mae: 1.5059\n",
            "Epoch 112/200\n",
            "1/1 [==============================] - 0s 11ms/step - loss: 1.1721 - mae: 1.1721\n",
            "Epoch 113/200\n",
            "1/1 [==============================] - 0s 12ms/step - loss: 0.9518 - mae: 0.9518\n",
            "Epoch 114/200\n",
            "1/1 [==============================] - 0s 11ms/step - loss: 0.7567 - mae: 0.7567\n",
            "Epoch 115/200\n",
            "1/1 [==============================] - 0s 13ms/step - loss: 0.3853 - mae: 0.3853\n",
            "Epoch 116/200\n",
            "1/1 [==============================] - 0s 11ms/step - loss: 0.2222 - mae: 0.2222\n",
            "Epoch 117/200\n",
            "1/1 [==============================] - 0s 16ms/step - loss: 0.2962 - mae: 0.2962\n",
            "Epoch 118/200\n",
            "1/1 [==============================] - 0s 15ms/step - loss: 0.4332 - mae: 0.4332\n",
            "Epoch 119/200\n",
            "1/1 [==============================] - 0s 11ms/step - loss: 0.6165 - mae: 0.6165\n",
            "Epoch 120/200\n",
            "1/1 [==============================] - 0s 11ms/step - loss: 0.8343 - mae: 0.8343\n",
            "Epoch 121/200\n",
            "1/1 [==============================] - 0s 11ms/step - loss: 0.7628 - mae: 0.7628\n",
            "Epoch 122/200\n",
            "1/1 [==============================] - 0s 11ms/step - loss: 1.0081 - mae: 1.0081\n",
            "Epoch 123/200\n",
            "1/1 [==============================] - 0s 11ms/step - loss: 0.9521 - mae: 0.9521\n",
            "Epoch 124/200\n",
            "1/1 [==============================] - 0s 11ms/step - loss: 0.6887 - mae: 0.6887\n",
            "Epoch 125/200\n",
            "1/1 [==============================] - 0s 10ms/step - loss: 0.6950 - mae: 0.6950\n",
            "Epoch 126/200\n",
            "1/1 [==============================] - 0s 10ms/step - loss: 0.4713 - mae: 0.4713\n",
            "Epoch 127/200\n",
            "1/1 [==============================] - 0s 10ms/step - loss: 0.3295 - mae: 0.3295\n",
            "Epoch 128/200\n",
            "1/1 [==============================] - 0s 15ms/step - loss: 0.2028 - mae: 0.2028\n",
            "Epoch 129/200\n",
            "1/1 [==============================] - 0s 15ms/step - loss: 0.2188 - mae: 0.2188\n",
            "Epoch 130/200\n",
            "1/1 [==============================] - 0s 18ms/step - loss: 0.2434 - mae: 0.2434\n",
            "Epoch 131/200\n",
            "1/1 [==============================] - 0s 11ms/step - loss: 0.3085 - mae: 0.3085\n",
            "Epoch 132/200\n",
            "1/1 [==============================] - 0s 9ms/step - loss: 0.3745 - mae: 0.3745\n",
            "Epoch 133/200\n",
            "1/1 [==============================] - 0s 10ms/step - loss: 0.3916 - mae: 0.3916\n",
            "Epoch 134/200\n",
            "1/1 [==============================] - 0s 11ms/step - loss: 0.4006 - mae: 0.4006\n",
            "Epoch 135/200\n",
            "1/1 [==============================] - 0s 11ms/step - loss: 0.3808 - mae: 0.3808\n",
            "Epoch 136/200\n",
            "1/1 [==============================] - 0s 12ms/step - loss: 0.4101 - mae: 0.4101\n",
            "Epoch 137/200\n",
            "1/1 [==============================] - 0s 12ms/step - loss: 0.2731 - mae: 0.2731\n",
            "Epoch 138/200\n",
            "1/1 [==============================] - 0s 11ms/step - loss: 0.1771 - mae: 0.1771\n",
            "Epoch 139/200\n",
            "1/1 [==============================] - 0s 11ms/step - loss: 0.0709 - mae: 0.0709\n",
            "Epoch 140/200\n",
            "1/1 [==============================] - 0s 11ms/step - loss: 0.2177 - mae: 0.2177\n",
            "Epoch 141/200\n",
            "1/1 [==============================] - 0s 17ms/step - loss: 0.2845 - mae: 0.2845\n",
            "Epoch 142/200\n",
            "1/1 [==============================] - 0s 11ms/step - loss: 0.3417 - mae: 0.3417\n",
            "Epoch 143/200\n",
            "1/1 [==============================] - 0s 11ms/step - loss: 0.3362 - mae: 0.3362\n",
            "Epoch 144/200\n",
            "1/1 [==============================] - 0s 10ms/step - loss: 0.2901 - mae: 0.2901\n",
            "Epoch 145/200\n",
            "1/1 [==============================] - 0s 10ms/step - loss: 0.4326 - mae: 0.4326\n",
            "Epoch 146/200\n",
            "1/1 [==============================] - 0s 11ms/step - loss: 0.4115 - mae: 0.4115\n",
            "Epoch 147/200\n",
            "1/1 [==============================] - 0s 11ms/step - loss: 0.1502 - mae: 0.1502\n",
            "Epoch 148/200\n",
            "1/1 [==============================] - 0s 13ms/step - loss: 0.5225 - mae: 0.5225\n",
            "Epoch 149/200\n",
            "1/1 [==============================] - 0s 15ms/step - loss: 0.5226 - mae: 0.5226\n",
            "Epoch 150/200\n",
            "1/1 [==============================] - 0s 11ms/step - loss: 0.1930 - mae: 0.1930\n",
            "Epoch 151/200\n",
            "1/1 [==============================] - 0s 9ms/step - loss: 0.7556 - mae: 0.7556\n",
            "Epoch 152/200\n",
            "1/1 [==============================] - 0s 9ms/step - loss: 0.9283 - mae: 0.9283\n",
            "Epoch 153/200\n",
            "1/1 [==============================] - 0s 9ms/step - loss: 0.6332 - mae: 0.6332\n",
            "Epoch 154/200\n",
            "1/1 [==============================] - 0s 9ms/step - loss: 0.3956 - mae: 0.3956\n",
            "Epoch 155/200\n",
            "1/1 [==============================] - 0s 9ms/step - loss: 0.5933 - mae: 0.5933\n",
            "Epoch 156/200\n",
            "1/1 [==============================] - 0s 11ms/step - loss: 0.5867 - mae: 0.5867\n",
            "Epoch 157/200\n",
            "1/1 [==============================] - 0s 11ms/step - loss: 0.3022 - mae: 0.3022\n",
            "Epoch 158/200\n",
            "1/1 [==============================] - 0s 11ms/step - loss: 0.4428 - mae: 0.4428\n",
            "Epoch 159/200\n",
            "1/1 [==============================] - 0s 10ms/step - loss: 0.5130 - mae: 0.5130\n",
            "Epoch 160/200\n",
            "1/1 [==============================] - 0s 13ms/step - loss: 0.1348 - mae: 0.1348\n",
            "Epoch 161/200\n",
            "1/1 [==============================] - 0s 11ms/step - loss: 0.6461 - mae: 0.6461\n",
            "Epoch 162/200\n",
            "1/1 [==============================] - 0s 10ms/step - loss: 0.9013 - mae: 0.9013\n",
            "Epoch 163/200\n",
            "1/1 [==============================] - 0s 12ms/step - loss: 0.7025 - mae: 0.7025\n",
            "Epoch 164/200\n",
            "1/1 [==============================] - 0s 11ms/step - loss: 0.1853 - mae: 0.1853\n",
            "Epoch 165/200\n",
            "1/1 [==============================] - 0s 10ms/step - loss: 0.6573 - mae: 0.6573\n",
            "Epoch 166/200\n",
            "1/1 [==============================] - 0s 11ms/step - loss: 0.8600 - mae: 0.8600\n",
            "Epoch 167/200\n",
            "1/1 [==============================] - 0s 11ms/step - loss: 0.6294 - mae: 0.6294\n",
            "Epoch 168/200\n",
            "1/1 [==============================] - 0s 11ms/step - loss: 0.1443 - mae: 0.1443\n",
            "Epoch 169/200\n",
            "1/1 [==============================] - 0s 11ms/step - loss: 0.8041 - mae: 0.8041\n",
            "Epoch 170/200\n",
            "1/1 [==============================] - 0s 10ms/step - loss: 1.1005 - mae: 1.1005\n",
            "Epoch 171/200\n",
            "1/1 [==============================] - 0s 10ms/step - loss: 0.9817 - mae: 0.9817\n",
            "Epoch 172/200\n",
            "1/1 [==============================] - 0s 11ms/step - loss: 0.5134 - mae: 0.5134\n",
            "Epoch 173/200\n",
            "1/1 [==============================] - 0s 11ms/step - loss: 0.2901 - mae: 0.2901\n",
            "Epoch 174/200\n",
            "1/1 [==============================] - 0s 11ms/step - loss: 0.6244 - mae: 0.6244\n",
            "Epoch 175/200\n",
            "1/1 [==============================] - 0s 11ms/step - loss: 0.5536 - mae: 0.5536\n",
            "Epoch 176/200\n",
            "1/1 [==============================] - 0s 14ms/step - loss: 0.1875 - mae: 0.1875\n",
            "Epoch 177/200\n",
            "1/1 [==============================] - 0s 11ms/step - loss: 0.5495 - mae: 0.5495\n",
            "Epoch 178/200\n",
            "1/1 [==============================] - 0s 11ms/step - loss: 0.7938 - mae: 0.7938\n",
            "Epoch 179/200\n",
            "1/1 [==============================] - 0s 16ms/step - loss: 0.6798 - mae: 0.6798\n",
            "Epoch 180/200\n",
            "1/1 [==============================] - 0s 14ms/step - loss: 0.2691 - mae: 0.2691\n",
            "Epoch 181/200\n",
            "1/1 [==============================] - 0s 11ms/step - loss: 0.4063 - mae: 0.4063\n",
            "Epoch 182/200\n",
            "1/1 [==============================] - 0s 11ms/step - loss: 0.6041 - mae: 0.6041\n",
            "Epoch 183/200\n",
            "1/1 [==============================] - 0s 11ms/step - loss: 0.4317 - mae: 0.4317\n",
            "Epoch 184/200\n",
            "1/1 [==============================] - 0s 10ms/step - loss: 0.0748 - mae: 0.0748\n",
            "Epoch 185/200\n",
            "1/1 [==============================] - 0s 10ms/step - loss: 0.2069 - mae: 0.2069\n",
            "Epoch 186/200\n",
            "1/1 [==============================] - 0s 14ms/step - loss: 0.1028 - mae: 0.1028\n",
            "Epoch 187/200\n",
            "1/1 [==============================] - 0s 11ms/step - loss: 0.0798 - mae: 0.0798\n",
            "Epoch 188/200\n",
            "1/1 [==============================] - 0s 11ms/step - loss: 0.2256 - mae: 0.2256\n",
            "Epoch 189/200\n",
            "1/1 [==============================] - 0s 14ms/step - loss: 0.0895 - mae: 0.0895\n",
            "Epoch 190/200\n",
            "1/1 [==============================] - 0s 12ms/step - loss: 0.3583 - mae: 0.3583\n",
            "Epoch 191/200\n",
            "1/1 [==============================] - 0s 9ms/step - loss: 0.4279 - mae: 0.4279\n",
            "Epoch 192/200\n",
            "1/1 [==============================] - 0s 12ms/step - loss: 0.1708 - mae: 0.1708\n",
            "Epoch 193/200\n",
            "1/1 [==============================] - 0s 10ms/step - loss: 0.3844 - mae: 0.3844\n",
            "Epoch 194/200\n",
            "1/1 [==============================] - 0s 11ms/step - loss: 0.5388 - mae: 0.5388\n",
            "Epoch 195/200\n",
            "1/1 [==============================] - 0s 10ms/step - loss: 0.3707 - mae: 0.3707\n",
            "Epoch 196/200\n",
            "1/1 [==============================] - 0s 10ms/step - loss: 0.1223 - mae: 0.1223\n",
            "Epoch 197/200\n",
            "1/1 [==============================] - 0s 11ms/step - loss: 0.2421 - mae: 0.2421\n",
            "Epoch 198/200\n",
            "1/1 [==============================] - 0s 10ms/step - loss: 0.0502 - mae: 0.0502\n",
            "Epoch 199/200\n",
            "1/1 [==============================] - 0s 10ms/step - loss: 0.4126 - mae: 0.4126\n",
            "Epoch 200/200\n",
            "1/1 [==============================] - 0s 10ms/step - loss: 0.5136 - mae: 0.5136\n"
          ]
        },
        {
          "data": {
            "text/plain": [
              "<keras.src.callbacks.History at 0x7ea2c4a81f90>"
            ]
          },
          "execution_count": 7,
          "metadata": {},
          "output_type": "execute_result"
        }
      ],
      "source": [
        "# tf.random.set_seed(42)\n",
        "\n",
        "model = tf.keras.Sequential([\n",
        "    tf.keras.layers.Dense(50, activation=None),\n",
        "    tf.keras.layers.Dense(50, activation=None),\n",
        "    tf.keras.layers.Dense(50, activation=None),\n",
        "    tf.keras.layers.Dense(1)\n",
        "])\n",
        "\n",
        "model.compile(loss=\"mae\",\n",
        "              optimizer=tf.keras.optimizers.Adam(learning_rate=0.001),\n",
        "              metrics=[\"mae\"])\n",
        "\n",
        "model.fit(tf.expand_dims(X, axis=-1), Y, epochs=200)"
      ]
    },
    {
      "cell_type": "code",
      "execution_count": null,
      "metadata": {
        "colab": {
          "background_save": true,
          "base_uri": "https://localhost:8080/"
        },
        "id": "5mw9gPmdX2A5",
        "outputId": "bf788d0f-c82d-4b31-86ef-f05bece24a86"
      },
      "outputs": [
        {
          "name": "stdout",
          "output_type": "stream",
          "text": [
            "1/1 [==============================] - 0s 121ms/step\n"
          ]
        },
        {
          "data": {
            "text/plain": [
              "array([[30.040495]], dtype=float32)"
            ]
          },
          "execution_count": 8,
          "metadata": {},
          "output_type": "execute_result"
        }
      ],
      "source": [
        "model.predict([21.0])"
      ]
    },
    {
      "cell_type": "code",
      "execution_count": null,
      "metadata": {
        "colab": {
          "background_save": true,
          "base_uri": "https://localhost:8080/"
        },
        "id": "xkRqkTfwTRM3",
        "outputId": "12e39447-a489-4742-9d11-5663249421f2"
      },
      "outputs": [
        {
          "data": {
            "text/plain": [
              "<tf.Tensor: shape=(50,), dtype=int32, numpy=\n",
              "array([-100,  -96,  -92,  -88,  -84,  -80,  -76,  -72,  -68,  -64,  -60,\n",
              "        -56,  -52,  -48,  -44,  -40,  -36,  -32,  -28,  -24,  -20,  -16,\n",
              "        -12,   -8,   -4,    0,    4,    8,   12,   16,   20,   24,   28,\n",
              "         32,   36,   40,   44,   48,   52,   56,   60,   64,   68,   72,\n",
              "         76,   80,   84,   88,   92,   96], dtype=int32)>"
            ]
          },
          "execution_count": 9,
          "metadata": {},
          "output_type": "execute_result"
        }
      ],
      "source": [
        "X = tf.range(-100, 100, 4)\n",
        "X"
      ]
    },
    {
      "cell_type": "code",
      "execution_count": null,
      "metadata": {
        "colab": {
          "background_save": true,
          "base_uri": "https://localhost:8080/"
        },
        "id": "5w2lXON7TXhL",
        "outputId": "5f71b0f9-25a1-4bda-e971-b07639031930"
      },
      "outputs": [
        {
          "data": {
            "text/plain": [
              "<tf.Tensor: shape=(50,), dtype=int32, numpy=\n",
              "array([-90, -86, -82, -78, -74, -70, -66, -62, -58, -54, -50, -46, -42,\n",
              "       -38, -34, -30, -26, -22, -18, -14, -10,  -6,  -2,   2,   6,  10,\n",
              "        14,  18,  22,  26,  30,  34,  38,  42,  46,  50,  54,  58,  62,\n",
              "        66,  70,  74,  78,  82,  86,  90,  94,  98, 102, 106], dtype=int32)>"
            ]
          },
          "execution_count": 10,
          "metadata": {},
          "output_type": "execute_result"
        }
      ],
      "source": [
        "Y = X + 10\n",
        "Y"
      ]
    },
    {
      "cell_type": "code",
      "execution_count": null,
      "metadata": {
        "colab": {
          "background_save": true,
          "base_uri": "https://localhost:8080/",
          "height": 447
        },
        "id": "ZQdgBXZCTb_G",
        "outputId": "848d3536-6178-48ca-d646-d6903ad9b695"
      },
      "outputs": [
        {
          "data": {
            "text/plain": [
              "[<matplotlib.lines.Line2D at 0x7ea2b7ff12d0>]"
            ]
          },
          "execution_count": 11,
          "metadata": {},
          "output_type": "execute_result"
        },
        {
          "data": {
            "image/png": "[encoded data removed]",
            "text/plain": [
              "<Figure size 640x480 with 1 Axes>"
            ]
          },
          "metadata": {},
          "output_type": "display_data"
        }
      ],
      "source": [
        "# Visualize\n",
        "plt.plot(X,Y)"
      ]
    },
    {
      "cell_type": "code",
      "execution_count": null,
      "metadata": {
        "colab": {
          "background_save": true,
          "base_uri": "https://localhost:8080/",
          "height": 447
        },
        "id": "86poIagTTlSc",
        "outputId": "345058b2-82bb-4aaa-f054-3ef3e655068b"
      },
      "outputs": [
        {
          "data": {
            "text/plain": [
              "<matplotlib.collections.PathCollection at 0x7ea2c53c66b0>"
            ]
          },
          "execution_count": 12,
          "metadata": {},
          "output_type": "execute_result"
        },
        {
          "data": {
            "image/png": "[encoded data removed]",
            "text/plain": [
              "<Figure size 640x480 with 1 Axes>"
            ]
          },
          "metadata": {},
          "output_type": "display_data"
        }
      ],
      "source": [
        "plt.scatter(X,Y)"
      ]
    },
    {
      "cell_type": "code",
      "execution_count": null,
      "metadata": {
        "colab": {
          "background_save": true,
          "base_uri": "https://localhost:8080/"
        },
        "id": "dyzUuNvtUz6G",
        "outputId": "360997bb-5431-4090-df34-5f89da8d5851"
      },
      "outputs": [
        {
          "data": {
            "text/plain": [
              "50"
            ]
          },
          "execution_count": 13,
          "metadata": {},
          "output_type": "execute_result"
        }
      ],
      "source": [
        "len(X)"
      ]
    },
    {
      "cell_type": "code",
      "execution_count": null,
      "metadata": {
        "colab": {
          "background_save": true,
          "base_uri": "https://localhost:8080/"
        },
        "id": "WeyVGeU5U3a4",
        "outputId": "81b5014b-bcf1-4d61-be91-314199a41ebf"
      },
      "outputs": [
        {
          "data": {
            "text/plain": [
              "(40, 40, 10)"
            ]
          },
          "execution_count": 14,
          "metadata": {},
          "output_type": "execute_result"
        }
      ],
      "source": [
        "X_train = X[:40]\n",
        "Y_train = Y[:40]\n",
        "X_test = X[40:]\n",
        "Y_test = Y[40:]\n",
        "\n",
        "len(X_train), len(Y_train), len(X_test)"
      ]
    },
    {
      "cell_type": "code",
      "execution_count": null,
      "metadata": {
        "colab": {
          "background_save": true,
          "base_uri": "https://localhost:8080/",
          "height": 616
        },
        "id": "m4riQqNRWn95",
        "outputId": "56bf7ca0-d16c-42eb-b4cb-8264c3108906"
      },
      "outputs": [
        {
          "data": {
            "text/plain": [
              "<matplotlib.legend.Legend at 0x7ea2c52571c0>"
            ]
          },
          "execution_count": 15,
          "metadata": {},
          "output_type": "execute_result"
        },
        {
          "data": {
            "image/png": "[encoded data removed]",
            "text/plain": [
              "<Figure size 1000x700 with 1 Axes>"
            ]
          },
          "metadata": {},
          "output_type": "display_data"
        }
      ],
      "source": [
        "plt.figure(figsize=(10,7))\n",
        "plt.scatter(X_train,Y_train,c='b',label='Training data')\n",
        "plt.scatter(X_test,Y_test,c='g',label='Testing data')\n",
        "plt.legend()"
      ]
    },
    {
      "cell_type": "code",
      "execution_count": null,
      "metadata": {
        "colab": {
          "background_save": true
        },
        "id": "H-fVu4bDYHoM"
      },
      "outputs": [],
      "source": [
        "\n",
        "model = tf.keras.Sequential([\n",
        "    tf.keras.layers.Dense(10,input_shape=[1], name='input_layer'),\n",
        "    tf.keras.layers.Dense(1, name='output_layer'),\n",
        "], name='model_1')\n",
        "model.compile(loss=tf.keras.losses.mae,optimizer=tf.keras.optimizers.Adam(learning_rate=0.01),metrics=['mae'])\n",
        "\n",
        "# model.fit(X_train,Y_train,epochs=100)"
      ]
    },
    {
      "cell_type": "code",
      "execution_count": null,
      "metadata": {
        "colab": {
          "background_save": true,
          "base_uri": "https://localhost:8080/"
        },
        "id": "hFRRHoWwYgVU",
        "outputId": "c149e07a-5dfe-4a9b-e63a-7a5a2c31829d"
      },
      "outputs": [
        {
          "name": "stdout",
          "output_type": "stream",
          "text": [
            "Model: \"model_1\"\n",
            "_________________________________________________________________\n",
            " Layer (type)                Output Shape              Param #   \n",
            "=================================================================\n",
            " input_layer (Dense)         (None, 10)                20        \n",
            "                                                                 \n",
            " output_layer (Dense)        (None, 1)                 11        \n",
            "                                                                 \n",
            "=================================================================\n",
            "Total params: 31 (124.00 Byte)\n",
            "Trainable params: 31 (124.00 Byte)\n",
            "Non-trainable params: 0 (0.00 Byte)\n",
            "_________________________________________________________________\n"
          ]
        }
      ],
      "source": [
        "model.summary()"
      ]
    },
    {
      "cell_type": "code",
      "execution_count": null,
      "metadata": {
        "colab": {
          "background_save": true,
          "base_uri": "https://localhost:8080/"
        },
        "id": "FjwB1djsfQTs",
        "outputId": "dcf63078-3c18-45a2-e89c-e9cf02de1cec"
      },
      "outputs": [
        {
          "name": "stdout",
          "output_type": "stream",
          "text": [
            "Epoch 1/100\n",
            "2/2 [==============================] - 1s 7ms/step - loss: 36.6233 - mae: 36.6233\n",
            "Epoch 2/100\n",
            "2/2 [==============================] - 0s 10ms/step - loss: 28.1497 - mae: 28.1497\n",
            "Epoch 3/100\n",
            "2/2 [==============================] - 0s 10ms/step - loss: 19.8926 - mae: 19.8926\n",
            "Epoch 4/100\n",
            "2/2 [==============================] - 0s 8ms/step - loss: 12.4827 - mae: 12.4827\n",
            "Epoch 5/100\n",
            "2/2 [==============================] - 0s 7ms/step - loss: 9.8411 - mae: 9.8411\n",
            "Epoch 6/100\n",
            "2/2 [==============================] - 0s 7ms/step - loss: 10.2527 - mae: 10.2527\n",
            "Epoch 7/100\n",
            "2/2 [==============================] - 0s 7ms/step - loss: 12.0520 - mae: 12.0520\n",
            "Epoch 8/100\n",
            "2/2 [==============================] - 0s 7ms/step - loss: 12.9694 - mae: 12.9694\n",
            "Epoch 9/100\n",
            "2/2 [==============================] - 0s 7ms/step - loss: 11.9982 - mae: 11.9982\n",
            "Epoch 10/100\n",
            "2/2 [==============================] - 0s 6ms/step - loss: 10.2005 - mae: 10.2005\n",
            "Epoch 11/100\n",
            "2/2 [==============================] - 0s 7ms/step - loss: 9.2278 - mae: 9.2278\n",
            "Epoch 12/100\n",
            "2/2 [==============================] - 0s 8ms/step - loss: 9.0545 - mae: 9.0545\n",
            "Epoch 13/100\n",
            "2/2 [==============================] - 0s 7ms/step - loss: 8.6808 - mae: 8.6808\n",
            "Epoch 14/100\n",
            "2/2 [==============================] - 0s 7ms/step - loss: 8.4371 - mae: 8.4371\n",
            "Epoch 15/100\n",
            "2/2 [==============================] - 0s 7ms/step - loss: 8.5256 - mae: 8.5256\n",
            "Epoch 16/100\n",
            "2/2 [==============================] - 0s 8ms/step - loss: 8.9691 - mae: 8.9691\n",
            "Epoch 17/100\n",
            "2/2 [==============================] - 0s 7ms/step - loss: 8.7547 - mae: 8.7547\n",
            "Epoch 18/100\n",
            "2/2 [==============================] - 0s 6ms/step - loss: 8.1576 - mae: 8.1576\n",
            "Epoch 19/100\n",
            "2/2 [==============================] - 0s 8ms/step - loss: 8.0573 - mae: 8.0573\n",
            "Epoch 20/100\n",
            "2/2 [==============================] - 0s 8ms/step - loss: 7.9071 - mae: 7.9071\n",
            "Epoch 21/100\n",
            "2/2 [==============================] - 0s 7ms/step - loss: 7.7974 - mae: 7.7974\n",
            "Epoch 22/100\n",
            "2/2 [==============================] - 0s 7ms/step - loss: 7.7007 - mae: 7.7007\n",
            "Epoch 23/100\n",
            "2/2 [==============================] - 0s 7ms/step - loss: 7.5323 - mae: 7.5323\n",
            "Epoch 24/100\n",
            "2/2 [==============================] - 0s 7ms/step - loss: 7.4331 - mae: 7.4331\n",
            "Epoch 25/100\n",
            "2/2 [==============================] - 0s 8ms/step - loss: 7.2581 - mae: 7.2581\n",
            "Epoch 26/100\n",
            "2/2 [==============================] - 0s 7ms/step - loss: 7.1115 - mae: 7.1115\n",
            "Epoch 27/100\n",
            "2/2 [==============================] - 0s 7ms/step - loss: 6.9923 - mae: 6.9923\n",
            "Epoch 28/100\n",
            "2/2 [==============================] - 0s 8ms/step - loss: 6.8553 - mae: 6.8553\n",
            "Epoch 29/100\n",
            "2/2 [==============================] - 0s 8ms/step - loss: 6.7140 - mae: 6.7140\n",
            "Epoch 30/100\n",
            "2/2 [==============================] - 0s 7ms/step - loss: 6.5868 - mae: 6.5868\n",
            "Epoch 31/100\n",
            "2/2 [==============================] - 0s 6ms/step - loss: 6.4744 - mae: 6.4744\n",
            "Epoch 32/100\n",
            "2/2 [==============================] - 0s 7ms/step - loss: 6.3462 - mae: 6.3462\n",
            "Epoch 33/100\n",
            "2/2 [==============================] - 0s 7ms/step - loss: 6.2244 - mae: 6.2244\n",
            "Epoch 34/100\n",
            "2/2 [==============================] - 0s 8ms/step - loss: 6.0733 - mae: 6.0733\n",
            "Epoch 35/100\n",
            "2/2 [==============================] - 0s 6ms/step - loss: 5.9149 - mae: 5.9149\n",
            "Epoch 36/100\n",
            "2/2 [==============================] - 0s 8ms/step - loss: 5.8309 - mae: 5.8309\n",
            "Epoch 37/100\n",
            "2/2 [==============================] - 0s 7ms/step - loss: 5.7212 - mae: 5.7212\n",
            "Epoch 38/100\n",
            "2/2 [==============================] - 0s 7ms/step - loss: 5.5085 - mae: 5.5085\n",
            "Epoch 39/100\n",
            "2/2 [==============================] - 0s 7ms/step - loss: 5.3804 - mae: 5.3804\n",
            "Epoch 40/100\n",
            "2/2 [==============================] - 0s 7ms/step - loss: 5.2442 - mae: 5.2442\n",
            "Epoch 41/100\n",
            "2/2 [==============================] - 0s 8ms/step - loss: 5.0940 - mae: 5.0940\n",
            "Epoch 42/100\n",
            "2/2 [==============================] - 0s 8ms/step - loss: 4.9324 - mae: 4.9324\n",
            "Epoch 43/100\n",
            "2/2 [==============================] - 0s 8ms/step - loss: 4.8362 - mae: 4.8362\n",
            "Epoch 44/100\n",
            "2/2 [==============================] - 0s 8ms/step - loss: 4.6271 - mae: 4.6271\n",
            "Epoch 45/100\n",
            "2/2 [==============================] - 0s 7ms/step - loss: 4.4939 - mae: 4.4939\n",
            "Epoch 46/100\n",
            "2/2 [==============================] - 0s 7ms/step - loss: 4.3550 - mae: 4.3550\n",
            "Epoch 47/100\n",
            "2/2 [==============================] - 0s 8ms/step - loss: 4.2094 - mae: 4.2094\n",
            "Epoch 48/100\n",
            "2/2 [==============================] - 0s 8ms/step - loss: 4.0499 - mae: 4.0499\n",
            "Epoch 49/100\n",
            "2/2 [==============================] - 0s 6ms/step - loss: 3.8762 - mae: 3.8762\n",
            "Epoch 50/100\n",
            "2/2 [==============================] - 0s 6ms/step - loss: 3.7019 - mae: 3.7019\n",
            "Epoch 51/100\n",
            "2/2 [==============================] - 0s 7ms/step - loss: 3.5217 - mae: 3.5217\n",
            "Epoch 52/100\n",
            "2/2 [==============================] - 0s 6ms/step - loss: 3.3567 - mae: 3.3567\n",
            "Epoch 53/100\n",
            "2/2 [==============================] - 0s 6ms/step - loss: 3.1870 - mae: 3.1870\n",
            "Epoch 54/100\n",
            "2/2 [==============================] - 0s 7ms/step - loss: 2.9713 - mae: 2.9713\n",
            "Epoch 55/100\n",
            "2/2 [==============================] - 0s 7ms/step - loss: 2.8157 - mae: 2.8157\n",
            "Epoch 56/100\n",
            "2/2 [==============================] - 0s 8ms/step - loss: 2.6268 - mae: 2.6268\n",
            "Epoch 57/100\n",
            "2/2 [==============================] - 0s 7ms/step - loss: 2.3911 - mae: 2.3911\n",
            "Epoch 58/100\n",
            "2/2 [==============================] - 0s 6ms/step - loss: 2.3265 - mae: 2.3265\n",
            "Epoch 59/100\n",
            "2/2 [==============================] - 0s 7ms/step - loss: 1.9969 - mae: 1.9969\n",
            "Epoch 60/100\n",
            "2/2 [==============================] - 0s 7ms/step - loss: 1.8442 - mae: 1.8442\n",
            "Epoch 61/100\n",
            "2/2 [==============================] - 0s 7ms/step - loss: 1.7107 - mae: 1.7107\n",
            "Epoch 62/100\n",
            "2/2 [==============================] - 0s 7ms/step - loss: 1.4277 - mae: 1.4277\n",
            "Epoch 63/100\n",
            "2/2 [==============================] - 0s 6ms/step - loss: 1.2367 - mae: 1.2367\n",
            "Epoch 64/100\n",
            "2/2 [==============================] - 0s 9ms/step - loss: 1.1892 - mae: 1.1892\n",
            "Epoch 65/100\n",
            "2/2 [==============================] - 0s 11ms/step - loss: 0.7312 - mae: 0.7312\n",
            "Epoch 66/100\n",
            "2/2 [==============================] - 0s 8ms/step - loss: 1.8787 - mae: 1.8787\n",
            "Epoch 67/100\n",
            "2/2 [==============================] - 0s 8ms/step - loss: 0.8919 - mae: 0.8919\n",
            "Epoch 68/100\n",
            "2/2 [==============================] - 0s 8ms/step - loss: 1.9018 - mae: 1.9018\n",
            "Epoch 69/100\n",
            "2/2 [==============================] - 0s 8ms/step - loss: 1.0676 - mae: 1.0676\n",
            "Epoch 70/100\n",
            "2/2 [==============================] - 0s 7ms/step - loss: 0.8849 - mae: 0.8849\n",
            "Epoch 71/100\n",
            "2/2 [==============================] - 0s 7ms/step - loss: 1.5756 - mae: 1.5756\n",
            "Epoch 72/100\n",
            "2/2 [==============================] - 0s 8ms/step - loss: 0.7316 - mae: 0.7316\n",
            "Epoch 73/100\n",
            "2/2 [==============================] - 0s 10ms/step - loss: 0.3302 - mae: 0.3302\n",
            "Epoch 74/100\n",
            "2/2 [==============================] - 0s 8ms/step - loss: 0.5410 - mae: 0.5410\n",
            "Epoch 75/100\n",
            "2/2 [==============================] - 0s 7ms/step - loss: 0.6891 - mae: 0.6891\n",
            "Epoch 76/100\n",
            "2/2 [==============================] - 0s 15ms/step - loss: 0.7251 - mae: 0.7251\n",
            "Epoch 77/100\n",
            "2/2 [==============================] - 0s 7ms/step - loss: 0.8115 - mae: 0.8115\n",
            "Epoch 78/100\n",
            "2/2 [==============================] - 0s 7ms/step - loss: 0.2608 - mae: 0.2608\n",
            "Epoch 79/100\n",
            "2/2 [==============================] - 0s 8ms/step - loss: 0.5419 - mae: 0.5419\n",
            "Epoch 80/100\n",
            "2/2 [==============================] - 0s 7ms/step - loss: 0.6178 - mae: 0.6178\n",
            "Epoch 81/100\n",
            "2/2 [==============================] - 0s 9ms/step - loss: 0.4012 - mae: 0.4012\n",
            "Epoch 82/100\n",
            "2/2 [==============================] - 0s 7ms/step - loss: 0.6259 - mae: 0.6259\n",
            "Epoch 83/100\n",
            "2/2 [==============================] - 0s 8ms/step - loss: 1.4660 - mae: 1.4660\n",
            "Epoch 84/100\n",
            "2/2 [==============================] - 0s 7ms/step - loss: 0.9135 - mae: 0.9135\n",
            "Epoch 85/100\n",
            "2/2 [==============================] - 0s 7ms/step - loss: 0.7271 - mae: 0.7271\n",
            "Epoch 86/100\n",
            "2/2 [==============================] - 0s 7ms/step - loss: 0.8159 - mae: 0.8159\n",
            "Epoch 87/100\n",
            "2/2 [==============================] - 0s 7ms/step - loss: 0.5724 - mae: 0.5724\n",
            "Epoch 88/100\n",
            "2/2 [==============================] - 0s 7ms/step - loss: 1.4267 - mae: 1.4267\n",
            "Epoch 89/100\n",
            "2/2 [==============================] - 0s 7ms/step - loss: 0.3845 - mae: 0.3845\n",
            "Epoch 90/100\n",
            "2/2 [==============================] - 0s 7ms/step - loss: 0.2406 - mae: 0.2406\n",
            "Epoch 91/100\n",
            "2/2 [==============================] - 0s 7ms/step - loss: 0.1376 - mae: 0.1376\n",
            "Epoch 92/100\n",
            "2/2 [==============================] - 0s 8ms/step - loss: 0.2800 - mae: 0.2800\n",
            "Epoch 93/100\n",
            "2/2 [==============================] - 0s 8ms/step - loss: 0.9665 - mae: 0.9665\n",
            "Epoch 94/100\n",
            "2/2 [==============================] - 0s 7ms/step - loss: 0.6175 - mae: 0.6175\n",
            "Epoch 95/100\n",
            "2/2 [==============================] - 0s 8ms/step - loss: 1.4557 - mae: 1.4557\n",
            "Epoch 96/100\n",
            "2/2 [==============================] - 0s 7ms/step - loss: 0.5356 - mae: 0.5356\n",
            "Epoch 97/100\n",
            "2/2 [==============================] - 0s 8ms/step - loss: 0.7705 - mae: 0.7705\n",
            "Epoch 98/100\n",
            "2/2 [==============================] - 0s 8ms/step - loss: 1.4129 - mae: 1.4129\n",
            "Epoch 99/100\n",
            "2/2 [==============================] - 0s 7ms/step - loss: 1.1603 - mae: 1.1603\n",
            "Epoch 100/100\n",
            "2/2 [==============================] - 0s 7ms/step - loss: 1.4278 - mae: 1.4278\n"
          ]
        },
        {
          "data": {
            "text/plain": [
              "<keras.src.callbacks.History at 0x7ea2c529ca60>"
            ]
          },
          "execution_count": 18,
          "metadata": {},
          "output_type": "execute_result"
        }
      ],
      "source": [
        "model.fit(tf.expand_dims(X, axis=-1),Y,epochs=100,verbose=1)"
      ]
    },
    {
      "cell_type": "code",
      "execution_count": null,
      "metadata": {
        "colab": {
          "background_save": true
        },
        "id": "k5FFTO7FdNJI"
      },
      "outputs": [],
      "source": [
        "from tensorflow.keras.utils import plot_model"
      ]
    },
    {
      "cell_type": "code",
      "execution_count": null,
      "metadata": {
        "colab": {
          "background_save": true,
          "base_uri": "https://localhost:8080/",
          "height": 312
        },
        "id": "VcrCskaIddJj",
        "outputId": "a4eef3bc-6e2d-4761-bb07-42ae4685ceee"
      },
      "outputs": [
        {
          "data": {
            "image/png": "[encoded data removed]",
            "text/plain": [
              "<IPython.core.display.Image object>"
            ]
          },
          "execution_count": 20,
          "metadata": {},
          "output_type": "execute_result"
        }
      ],
      "source": [
        "plot_model(model=model, show_shapes=True)"
      ]
    },
    {
      "cell_type": "code",
      "execution_count": null,
      "metadata": {
        "colab": {
          "background_save": true,
          "base_uri": "https://localhost:8080/"
        },
        "id": "Y7N9U8h7dkD4",
        "outputId": "8047bf34-ab7a-491a-8f9d-0ec0f6177ee4"
      },
      "outputs": [
        {
          "name": "stdout",
          "output_type": "stream",
          "text": [
            "1/1 [==============================] - 0s 90ms/step\n"
          ]
        },
        {
          "data": {
            "text/plain": [
              "(array([[ 72.19795 ],\n",
              "        [ 76.340355],\n",
              "        [ 80.482765],\n",
              "        [ 84.625175],\n",
              "        [ 88.76757 ],\n",
              "        [ 92.90998 ],\n",
              "        [ 97.05239 ],\n",
              "        [101.194786],\n",
              "        [105.3372  ],\n",
              "        [109.47961 ]], dtype=float32),\n",
              " <tf.Tensor: shape=(10,), dtype=int32, numpy=array([ 70,  74,  78,  82,  86,  90,  94,  98, 102, 106], dtype=int32)>)"
            ]
          },
          "execution_count": 21,
          "metadata": {},
          "output_type": "execute_result"
        }
      ],
      "source": [
        "y_pred = model.predict(X_test)\n",
        "# len(y_pred)\n",
        "y_pred, Y_test"
      ]
    },
    {
      "cell_type": "code",
      "execution_count": null,
      "metadata": {
        "colab": {
          "background_save": true
        },
        "id": "MXB07i81i7pw"
      },
      "outputs": [],
      "source": [
        "def plot_predictions(train_data=X_train,train_labels=Y_train,test_data=X_test,test_labels=Y_test,predictions=y_pred):\n",
        "  plt.figure(figsize=(10,7))\n",
        "  plt.scatter(train_data,train_labels,c='b',label='Training Data')\n",
        "  plt.scatter(test_data,test_labels,c='g',label='Testing Data')\n",
        "  plt.scatter(test_data,predictions,c='r',label='Predictions')\n",
        "  plt.legend()"
      ]
    },
    {
      "cell_type": "code",
      "execution_count": null,
      "metadata": {
        "colab": {
          "background_save": true,
          "base_uri": "https://localhost:8080/",
          "height": 599
        },
        "id": "DS-U30SikARH",
        "outputId": "5b6d760f-ee28-4b03-f82d-c6783d88f6ac"
      },
      "outputs": [
        {
          "data": {
            "image/png": "[encoded data removed]",
            "text/plain": [
              "<Figure size 1000x700 with 1 Axes>"
            ]
          },
          "metadata": {},
          "output_type": "display_data"
        }
      ],
      "source": [
        "plot_predictions()"
      ]
    },
    {
      "cell_type": "code",
      "execution_count": null,
      "metadata": {
        "colab": {
          "background_save": true,
          "base_uri": "https://localhost:8080/"
        },
        "id": "_bsnSNaUp_iI",
        "outputId": "9e47ccd1-2037-4db0-b1e1-86dae8c90410"
      },
      "outputs": [
        {
          "name": "stdout",
          "output_type": "stream",
          "text": [
            "1/1 [==============================] - 0s 227ms/step - loss: 2.8388 - mae: 2.8388\n"
          ]
        },
        {
          "data": {
            "text/plain": [
              "[2.8387770652770996, 2.8387770652770996]"
            ]
          },
          "execution_count": 24,
          "metadata": {},
          "output_type": "execute_result"
        }
      ],
      "source": [
        "model.evaluate(X_test,Y_test)"
      ]
    },
    {
      "cell_type": "code",
      "execution_count": null,
      "metadata": {
        "colab": {
          "background_save": true
        },
        "id": "n1ClCcv_qGJ5"
      },
      "outputs": [],
      "source": [
        "# calculate the mean absoulute error"
      ]
    },
    {
      "cell_type": "code",
      "execution_count": null,
      "metadata": {
        "colab": {
          "background_save": true,
          "base_uri": "https://localhost:8080/"
        },
        "id": "5D4y2bTxqM6H",
        "outputId": "694a9f26-0e80-4f90-f53c-9974072b0cc8"
      },
      "outputs": [
        {
          "data": {
            "text/plain": [
              "<tf.Tensor: shape=(10, 1), dtype=float32, numpy=\n",
              "array([[ 72.19795 ],\n",
              "       [ 76.340355],\n",
              "       [ 80.482765],\n",
              "       [ 84.625175],\n",
              "       [ 88.76757 ],\n",
              "       [ 92.90998 ],\n",
              "       [ 97.05239 ],\n",
              "       [101.194786],\n",
              "       [105.3372  ],\n",
              "       [109.47961 ]], dtype=float32)>"
            ]
          },
          "execution_count": 26,
          "metadata": {},
          "output_type": "execute_result"
        }
      ],
      "source": [
        "tf.constant(y_pred)"
      ]
    },
    {
      "cell_type": "code",
      "execution_count": null,
      "metadata": {
        "colab": {
          "background_save": true,
          "base_uri": "https://localhost:8080/"
        },
        "id": "QAvqENbOqOjc",
        "outputId": "84100eb8-9ae2-4281-8e91-4c6d1de72288"
      },
      "outputs": [
        {
          "data": {
            "text/plain": [
              "(<tf.Tensor: shape=(10,), dtype=int32, numpy=array([ 70,  74,  78,  82,  86,  90,  94,  98, 102, 106], dtype=int32)>,\n",
              " TensorShape([10]))"
            ]
          },
          "execution_count": 27,
          "metadata": {},
          "output_type": "execute_result"
        }
      ],
      "source": [
        "Y_test, Y_test.shape"
      ]
    },
    {
      "cell_type": "code",
      "execution_count": null,
      "metadata": {
        "colab": {
          "background_save": true,
          "base_uri": "https://localhost:8080/"
        },
        "id": "-ZA35rCxqzNl",
        "outputId": "3a3fcb3b-5670-4fe4-b2fd-e8384d1d33b5"
      },
      "outputs": [
        {
          "data": {
            "text/plain": [
              "TensorShape([10])"
            ]
          },
          "execution_count": 28,
          "metadata": {},
          "output_type": "execute_result"
        }
      ],
      "source": [
        "y_pred_new = tf.reshape(y_pred,[-1])\n",
        "y_pred_new.shape"
      ]
    },
    {
      "cell_type": "code",
      "execution_count": null,
      "metadata": {
        "colab": {
          "background_save": true,
          "base_uri": "https://localhost:8080/"
        },
        "id": "2Esqbfaxst9U",
        "outputId": "6d755e09-5d89-4770-8c8d-3a00e9917b17"
      },
      "outputs": [
        {
          "data": {
            "text/plain": [
              "<tf.Tensor: shape=(10,), dtype=float32, numpy=\n",
              "array([ 72.19795 ,  76.340355,  80.482765,  84.625175,  88.76757 ,\n",
              "        92.90998 ,  97.05239 , 101.194786, 105.3372  , 109.47961 ],\n",
              "      dtype=float32)>"
            ]
          },
          "execution_count": 29,
          "metadata": {},
          "output_type": "execute_result"
        }
      ],
      "source": [
        "tf.squeeze(y_pred)"
      ]
    },
    {
      "cell_type": "code",
      "execution_count": null,
      "metadata": {
        "colab": {
          "background_save": true,
          "base_uri": "https://localhost:8080/"
        },
        "id": "lCAC-XnqqROF",
        "outputId": "d12c16e7-ceb5-44de-d598-42ae52d8c7e8"
      },
      "outputs": [
        {
          "data": {
            "text/plain": [
              "<tf.Tensor: shape=(), dtype=float32, numpy=2.838778>"
            ]
          },
          "execution_count": 30,
          "metadata": {},
          "output_type": "execute_result"
        }
      ],
      "source": [
        "mae = tf.keras.metrics.mean_absolute_error(y_true=Y_test,y_pred=tf.squeeze(y_pred))\n",
        "\n",
        "mae"
      ]
    },
    {
      "cell_type": "code",
      "execution_count": null,
      "metadata": {
        "colab": {
          "background_save": true,
          "base_uri": "https://localhost:8080/"
        },
        "id": "hR8pW9ujMlGD",
        "outputId": "126e1ee4-a14c-4087-aff0-bffc81d477a9"
      },
      "outputs": [
        {
          "name": "stdout",
          "output_type": "stream",
          "text": [
            "Epoch 1/100\n",
            "2/2 [==============================] - 2s 29ms/step - loss: 80.0536 - mae: 80.0536\n",
            "Epoch 2/100\n",
            "2/2 [==============================] - 0s 17ms/step - loss: 44.6734 - mae: 44.6734\n",
            "Epoch 3/100\n",
            "2/2 [==============================] - 0s 12ms/step - loss: 11.6642 - mae: 11.6642\n",
            "Epoch 4/100\n",
            "2/2 [==============================] - 0s 10ms/step - loss: 9.3835 - mae: 9.3835\n",
            "Epoch 5/100\n",
            "2/2 [==============================] - 0s 13ms/step - loss: 10.2605 - mae: 10.2605\n",
            "Epoch 6/100\n",
            "2/2 [==============================] - 0s 14ms/step - loss: 9.5155 - mae: 9.5155\n",
            "Epoch 7/100\n",
            "2/2 [==============================] - 0s 10ms/step - loss: 8.6448 - mae: 8.6448\n",
            "Epoch 8/100\n",
            "2/2 [==============================] - 0s 11ms/step - loss: 9.0728 - mae: 9.0728\n",
            "Epoch 9/100\n",
            "2/2 [==============================] - 0s 13ms/step - loss: 18.8943 - mae: 18.8943\n",
            "Epoch 10/100\n",
            "2/2 [==============================] - 0s 14ms/step - loss: 10.2102 - mae: 10.2102\n",
            "Epoch 11/100\n",
            "2/2 [==============================] - 0s 14ms/step - loss: 8.4496 - mae: 8.4496\n",
            "Epoch 12/100\n",
            "2/2 [==============================] - 0s 11ms/step - loss: 10.7453 - mae: 10.7453\n",
            "Epoch 13/100\n",
            "2/2 [==============================] - 0s 13ms/step - loss: 9.8447 - mae: 9.8447\n",
            "Epoch 14/100\n",
            "2/2 [==============================] - 0s 17ms/step - loss: 16.1588 - mae: 16.1588\n",
            "Epoch 15/100\n",
            "2/2 [==============================] - 0s 10ms/step - loss: 11.3197 - mae: 11.3197\n",
            "Epoch 16/100\n",
            "2/2 [==============================] - 0s 12ms/step - loss: 8.5930 - mae: 8.5930\n",
            "Epoch 17/100\n",
            "2/2 [==============================] - 0s 9ms/step - loss: 13.7330 - mae: 13.7330\n",
            "Epoch 18/100\n",
            "2/2 [==============================] - 0s 8ms/step - loss: 11.5795 - mae: 11.5795\n",
            "Epoch 19/100\n",
            "2/2 [==============================] - 0s 13ms/step - loss: 17.8205 - mae: 17.8205\n",
            "Epoch 20/100\n",
            "2/2 [==============================] - 0s 15ms/step - loss: 14.9559 - mae: 14.9559\n",
            "Epoch 21/100\n",
            "2/2 [==============================] - 0s 7ms/step - loss: 10.8465 - mae: 10.8465\n",
            "Epoch 22/100\n",
            "2/2 [==============================] - 0s 30ms/step - loss: 8.5960 - mae: 8.5960\n",
            "Epoch 23/100\n",
            "2/2 [==============================] - 0s 14ms/step - loss: 9.7506 - mae: 9.7506\n",
            "Epoch 24/100\n",
            "2/2 [==============================] - 0s 13ms/step - loss: 10.9544 - mae: 10.9544\n",
            "Epoch 25/100\n",
            "2/2 [==============================] - 0s 19ms/step - loss: 9.1745 - mae: 9.1745\n",
            "Epoch 26/100\n",
            "2/2 [==============================] - 0s 25ms/step - loss: 13.1899 - mae: 13.1899\n",
            "Epoch 27/100\n",
            "2/2 [==============================] - 0s 18ms/step - loss: 10.6712 - mae: 10.6712\n",
            "Epoch 28/100\n",
            "2/2 [==============================] - 0s 24ms/step - loss: 12.8825 - mae: 12.8825\n",
            "Epoch 29/100\n",
            "2/2 [==============================] - 0s 21ms/step - loss: 9.5274 - mae: 9.5274\n",
            "Epoch 30/100\n",
            "2/2 [==============================] - 0s 17ms/step - loss: 16.3890 - mae: 16.3890\n",
            "Epoch 31/100\n",
            "2/2 [==============================] - 0s 8ms/step - loss: 23.6163 - mae: 23.6163\n",
            "Epoch 32/100\n",
            "2/2 [==============================] - 0s 14ms/step - loss: 7.6372 - mae: 7.6372\n",
            "Epoch 33/100\n",
            "2/2 [==============================] - 0s 11ms/step - loss: 9.3354 - mae: 9.3354\n",
            "Epoch 34/100\n",
            "2/2 [==============================] - 0s 13ms/step - loss: 13.7237 - mae: 13.7237\n",
            "Epoch 35/100\n",
            "2/2 [==============================] - 0s 13ms/step - loss: 11.1615 - mae: 11.1615\n",
            "Epoch 36/100\n",
            "2/2 [==============================] - 0s 8ms/step - loss: 13.3650 - mae: 13.3650\n",
            "Epoch 37/100\n",
            "2/2 [==============================] - 0s 8ms/step - loss: 9.4857 - mae: 9.4857\n",
            "Epoch 38/100\n",
            "2/2 [==============================] - 0s 10ms/step - loss: 10.1439 - mae: 10.1439\n",
            "Epoch 39/100\n",
            "2/2 [==============================] - 0s 15ms/step - loss: 10.2134 - mae: 10.2134\n",
            "Epoch 40/100\n",
            "2/2 [==============================] - 0s 11ms/step - loss: 10.9506 - mae: 10.9506\n",
            "Epoch 41/100\n",
            "2/2 [==============================] - 0s 9ms/step - loss: 7.9418 - mae: 7.9418\n",
            "Epoch 42/100\n",
            "2/2 [==============================] - 0s 9ms/step - loss: 10.0991 - mae: 10.0991\n",
            "Epoch 43/100\n",
            "2/2 [==============================] - 0s 12ms/step - loss: 8.7161 - mae: 8.7161\n",
            "Epoch 44/100\n",
            "2/2 [==============================] - 0s 18ms/step - loss: 12.1969 - mae: 12.1969\n",
            "Epoch 45/100\n",
            "2/2 [==============================] - 0s 27ms/step - loss: 13.8371 - mae: 13.8371\n",
            "Epoch 46/100\n",
            "2/2 [==============================] - 0s 28ms/step - loss: 8.5054 - mae: 8.5054\n",
            "Epoch 47/100\n",
            "2/2 [==============================] - 0s 13ms/step - loss: 9.1420 - mae: 9.1420\n",
            "Epoch 48/100\n",
            "2/2 [==============================] - 0s 26ms/step - loss: 10.6232 - mae: 10.6232\n",
            "Epoch 49/100\n",
            "2/2 [==============================] - 0s 14ms/step - loss: 7.7597 - mae: 7.7597\n",
            "Epoch 50/100\n",
            "2/2 [==============================] - 0s 15ms/step - loss: 9.5455 - mae: 9.5455\n",
            "Epoch 51/100\n",
            "2/2 [==============================] - 0s 14ms/step - loss: 9.1752 - mae: 9.1752\n",
            "Epoch 52/100\n",
            "2/2 [==============================] - 0s 15ms/step - loss: 16.3362 - mae: 16.3362\n",
            "Epoch 53/100\n",
            "2/2 [==============================] - 0s 15ms/step - loss: 14.1597 - mae: 14.1597\n",
            "Epoch 54/100\n",
            "2/2 [==============================] - 0s 15ms/step - loss: 21.1723 - mae: 21.1723\n",
            "Epoch 55/100\n",
            "2/2 [==============================] - 0s 10ms/step - loss: 16.3764 - mae: 16.3764\n",
            "Epoch 56/100\n",
            "2/2 [==============================] - 0s 13ms/step - loss: 10.0199 - mae: 10.0199\n",
            "Epoch 57/100\n",
            "2/2 [==============================] - 0s 10ms/step - loss: 9.9673 - mae: 9.9673\n",
            "Epoch 58/100\n",
            "2/2 [==============================] - 0s 10ms/step - loss: 9.2302 - mae: 9.2302\n",
            "Epoch 59/100\n",
            "2/2 [==============================] - 0s 10ms/step - loss: 8.4305 - mae: 8.4305\n",
            "Epoch 60/100\n",
            "2/2 [==============================] - 0s 11ms/step - loss: 9.4985 - mae: 9.4985\n",
            "Epoch 61/100\n",
            "2/2 [==============================] - 0s 10ms/step - loss: 11.4370 - mae: 11.4370\n",
            "Epoch 62/100\n",
            "2/2 [==============================] - 0s 11ms/step - loss: 11.7290 - mae: 11.7290\n",
            "Epoch 63/100\n",
            "2/2 [==============================] - 0s 10ms/step - loss: 7.0985 - mae: 7.0985\n",
            "Epoch 64/100\n",
            "2/2 [==============================] - 0s 14ms/step - loss: 17.0053 - mae: 17.0053\n",
            "Epoch 65/100\n",
            "2/2 [==============================] - 0s 11ms/step - loss: 12.4946 - mae: 12.4946\n",
            "Epoch 66/100\n",
            "2/2 [==============================] - 0s 12ms/step - loss: 13.0580 - mae: 13.0580\n",
            "Epoch 67/100\n",
            "2/2 [==============================] - 0s 9ms/step - loss: 8.0894 - mae: 8.0894\n",
            "Epoch 68/100\n",
            "2/2 [==============================] - 0s 13ms/step - loss: 10.2218 - mae: 10.2218\n",
            "Epoch 69/100\n",
            "2/2 [==============================] - 0s 10ms/step - loss: 12.4051 - mae: 12.4051\n",
            "Epoch 70/100\n",
            "2/2 [==============================] - 0s 9ms/step - loss: 9.0615 - mae: 9.0615\n",
            "Epoch 71/100\n",
            "2/2 [==============================] - 0s 8ms/step - loss: 10.0457 - mae: 10.0457\n",
            "Epoch 72/100\n",
            "2/2 [==============================] - 0s 10ms/step - loss: 10.0624 - mae: 10.0624\n",
            "Epoch 73/100\n",
            "2/2 [==============================] - 0s 10ms/step - loss: 12.6121 - mae: 12.6121\n",
            "Epoch 74/100\n",
            "2/2 [==============================] - 0s 10ms/step - loss: 10.4244 - mae: 10.4244\n",
            "Epoch 75/100\n",
            "2/2 [==============================] - 0s 25ms/step - loss: 9.7316 - mae: 9.7316\n",
            "Epoch 76/100\n",
            "2/2 [==============================] - 0s 20ms/step - loss: 11.2304 - mae: 11.2304\n",
            "Epoch 77/100\n",
            "2/2 [==============================] - 0s 13ms/step - loss: 8.3727 - mae: 8.3727\n",
            "Epoch 78/100\n",
            "2/2 [==============================] - 0s 16ms/step - loss: 9.1290 - mae: 9.1290\n",
            "Epoch 79/100\n",
            "2/2 [==============================] - 0s 12ms/step - loss: 19.5505 - mae: 19.5505\n",
            "Epoch 80/100\n",
            "2/2 [==============================] - 0s 13ms/step - loss: 14.8794 - mae: 14.8794\n",
            "Epoch 81/100\n",
            "2/2 [==============================] - 0s 9ms/step - loss: 9.0491 - mae: 9.0491\n",
            "Epoch 82/100\n",
            "2/2 [==============================] - 0s 12ms/step - loss: 13.0120 - mae: 13.0120\n",
            "Epoch 83/100\n",
            "2/2 [==============================] - 0s 9ms/step - loss: 7.9349 - mae: 7.9349\n",
            "Epoch 84/100\n",
            "2/2 [==============================] - 0s 8ms/step - loss: 7.7147 - mae: 7.7147\n",
            "Epoch 85/100\n",
            "2/2 [==============================] - 0s 17ms/step - loss: 10.0677 - mae: 10.0677\n",
            "Epoch 86/100\n",
            "2/2 [==============================] - 0s 44ms/step - loss: 9.2731 - mae: 9.2731\n",
            "Epoch 87/100\n",
            "2/2 [==============================] - 0s 19ms/step - loss: 12.0554 - mae: 12.0554\n",
            "Epoch 88/100\n",
            "2/2 [==============================] - 0s 14ms/step - loss: 10.6763 - mae: 10.6763\n",
            "Epoch 89/100\n",
            "2/2 [==============================] - 0s 11ms/step - loss: 7.2895 - mae: 7.2895\n",
            "Epoch 90/100\n",
            "2/2 [==============================] - 0s 15ms/step - loss: 12.8180 - mae: 12.8180\n",
            "Epoch 91/100\n",
            "2/2 [==============================] - 0s 14ms/step - loss: 7.4995 - mae: 7.4995\n",
            "Epoch 92/100\n",
            "2/2 [==============================] - 0s 12ms/step - loss: 6.7748 - mae: 6.7748\n",
            "Epoch 93/100\n",
            "2/2 [==============================] - 0s 10ms/step - loss: 11.9688 - mae: 11.9688\n",
            "Epoch 94/100\n",
            "2/2 [==============================] - 0s 10ms/step - loss: 8.9022 - mae: 8.9022\n",
            "Epoch 95/100\n",
            "2/2 [==============================] - 0s 11ms/step - loss: 7.7432 - mae: 7.7432\n",
            "Epoch 96/100\n",
            "2/2 [==============================] - 0s 8ms/step - loss: 6.7724 - mae: 6.7724\n",
            "Epoch 97/100\n",
            "2/2 [==============================] - 0s 9ms/step - loss: 8.6540 - mae: 8.6540\n",
            "Epoch 98/100\n",
            "2/2 [==============================] - 0s 7ms/step - loss: 9.4138 - mae: 9.4138\n",
            "Epoch 99/100\n",
            "2/2 [==============================] - 0s 14ms/step - loss: 9.1492 - mae: 9.1492\n",
            "Epoch 100/100\n",
            "2/2 [==============================] - 0s 41ms/step - loss: 10.5063 - mae: 10.5063\n"
          ]
        },
        {
          "data": {
            "text/plain": [
              "<keras.src.callbacks.History at 0x7ea2b2ff00d0>"
            ]
          },
          "execution_count": 114,
          "metadata": {},
          "output_type": "execute_result"
        }
      ],
      "source": [
        "tf.random.set_seed(42)\n",
        "\n",
        "model = tf.keras.Sequential([\n",
        "    tf.keras.layers.Dense(1)\n",
        "])\n",
        "\n",
        "model.compile(loss=tf.keras.losses.mae,optimizer=tf.keras.optimizers.SGD(),metrics=['mae'])\n",
        "\n",
        "model.fit(tf.expand_dims(X_train,axis=-1),Y_train,epochs=100)"
      ]
    },
    {
      "cell_type": "code",
      "execution_count": null,
      "metadata": {
        "colab": {
          "background_save": true,
          "base_uri": "https://localhost:8080/"
        },
        "id": "ZE4vMmepNrqg",
        "outputId": "78a12daf-988c-4f3a-d3e8-fd8ef8485e07"
      },
      "outputs": [
        {
          "name": "stdout",
          "output_type": "stream",
          "text": [
            "1/1 [==============================] - 0s 163ms/step\n"
          ]
        },
        {
          "data": {
            "text/plain": [
              "array([[56.47434 ],\n",
              "       [60.15475 ],\n",
              "       [63.835163],\n",
              "       [67.51558 ],\n",
              "       [71.196   ],\n",
              "       [74.87641 ],\n",
              "       [78.55682 ],\n",
              "       [82.23724 ],\n",
              "       [85.917656],\n",
              "       [89.59807 ]], dtype=float32)"
            ]
          },
          "execution_count": 115,
          "metadata": {},
          "output_type": "execute_result"
        }
      ],
      "source": [
        "y_pred_1 = model.predict(X_test)\n",
        "y_pred_1"
      ]
    },
    {
      "cell_type": "code",
      "execution_count": null,
      "metadata": {
        "colab": {
          "background_save": true,
          "base_uri": "https://localhost:8080/",
          "height": 599
        },
        "id": "ewmXMuyBN18_",
        "outputId": "a21ad8c2-56c5-46f1-8595-0756071aefcf"
      },
      "outputs": [
        {
          "data": {
            "image/png": "[encoded data removed]",
            "text/plain": [
              "<Figure size 1000x700 with 1 Axes>"
            ]
          },
          "metadata": {},
          "output_type": "display_data"
        }
      ],
      "source": [
        "plot_predictions(predictions=y_pred_1)"
      ]
    },
    {
      "cell_type": "code",
      "execution_count": null,
      "metadata": {
        "colab": {
          "background_save": true,
          "base_uri": "https://localhost:8080/"
        },
        "id": "aKAEFf1rPLar",
        "outputId": "88fd3d27-2039-4321-a12e-e659f3c61d89"
      },
      "outputs": [
        {
          "name": "stdout",
          "output_type": "stream",
          "text": [
            "Epoch 1/100\n",
            "2/2 [==============================] - 1s 11ms/step - loss: 13.5309 - mse: 358.8048\n",
            "Epoch 2/100\n",
            "2/2 [==============================] - 0s 8ms/step - loss: 21.9703 - mse: 781.4171\n",
            "Epoch 3/100\n",
            "2/2 [==============================] - 0s 7ms/step - loss: 19.7715 - mse: 577.7860\n",
            "Epoch 4/100\n",
            "2/2 [==============================] - 0s 6ms/step - loss: 14.3205 - mse: 273.1474\n",
            "Epoch 5/100\n",
            "2/2 [==============================] - 0s 7ms/step - loss: 20.0786 - mse: 550.4718\n",
            "Epoch 6/100\n",
            "2/2 [==============================] - 0s 7ms/step - loss: 8.1734 - mse: 91.5728\n",
            "Epoch 7/100\n",
            "2/2 [==============================] - 0s 7ms/step - loss: 17.1620 - mse: 376.7714\n",
            "Epoch 8/100\n",
            "2/2 [==============================] - 0s 7ms/step - loss: 17.1428 - mse: 437.2058\n",
            "Epoch 9/100\n",
            "2/2 [==============================] - 0s 7ms/step - loss: 30.1412 - mse: 1239.2933\n",
            "Epoch 10/100\n",
            "2/2 [==============================] - 0s 8ms/step - loss: 11.9299 - mse: 195.6165\n",
            "Epoch 11/100\n",
            "2/2 [==============================] - 0s 6ms/step - loss: 8.9605 - mse: 108.6942\n",
            "Epoch 12/100\n",
            "2/2 [==============================] - 0s 6ms/step - loss: 20.8470 - mse: 613.4658\n",
            "Epoch 13/100\n",
            "2/2 [==============================] - 0s 7ms/step - loss: 12.3008 - mse: 189.8659\n",
            "Epoch 14/100\n",
            "2/2 [==============================] - 0s 9ms/step - loss: 36.1442 - mse: 2165.9207\n",
            "Epoch 15/100\n",
            "2/2 [==============================] - 0s 7ms/step - loss: 23.6744 - mse: 803.0619\n",
            "Epoch 16/100\n",
            "2/2 [==============================] - 0s 7ms/step - loss: 10.1840 - mse: 123.8217\n",
            "Epoch 17/100\n",
            "2/2 [==============================] - 0s 9ms/step - loss: 18.9773 - mse: 484.0408\n",
            "Epoch 18/100\n",
            "2/2 [==============================] - 0s 8ms/step - loss: 12.4049 - mse: 236.7041\n",
            "Epoch 19/100\n",
            "2/2 [==============================] - 0s 11ms/step - loss: 18.4145 - mse: 543.6769\n",
            "Epoch 20/100\n",
            "2/2 [==============================] - 0s 6ms/step - loss: 8.6579 - mse: 109.6144\n",
            "Epoch 21/100\n",
            "2/2 [==============================] - 0s 6ms/step - loss: 13.4543 - mse: 258.8437\n",
            "Epoch 22/100\n",
            "2/2 [==============================] - 0s 7ms/step - loss: 17.7405 - mse: 427.5209\n",
            "Epoch 23/100\n",
            "2/2 [==============================] - 0s 6ms/step - loss: 9.3327 - mse: 92.1181\n",
            "Epoch 24/100\n",
            "2/2 [==============================] - 0s 6ms/step - loss: 11.6686 - mse: 159.0444\n",
            "Epoch 25/100\n",
            "2/2 [==============================] - 0s 7ms/step - loss: 15.2739 - mse: 341.2736\n",
            "Epoch 26/100\n",
            "2/2 [==============================] - 0s 7ms/step - loss: 18.2636 - mse: 472.0347\n",
            "Epoch 27/100\n",
            "2/2 [==============================] - 0s 7ms/step - loss: 11.4180 - mse: 166.0279\n",
            "Epoch 28/100\n",
            "2/2 [==============================] - 0s 7ms/step - loss: 28.8565 - mse: 1352.4391\n",
            "Epoch 29/100\n",
            "2/2 [==============================] - 0s 7ms/step - loss: 9.2527 - mse: 95.2365\n",
            "Epoch 30/100\n",
            "2/2 [==============================] - 0s 7ms/step - loss: 29.6412 - mse: 1585.9337\n",
            "Epoch 31/100\n",
            "2/2 [==============================] - 0s 7ms/step - loss: 53.7576 - mse: 5175.5112\n",
            "Epoch 32/100\n",
            "2/2 [==============================] - 0s 10ms/step - loss: 9.5271 - mse: 100.8094\n",
            "Epoch 33/100\n",
            "2/2 [==============================] - 0s 7ms/step - loss: 12.1110 - mse: 177.5670\n",
            "Epoch 34/100\n",
            "2/2 [==============================] - 0s 7ms/step - loss: 23.6678 - mse: 847.8757\n",
            "Epoch 35/100\n",
            "2/2 [==============================] - 0s 7ms/step - loss: 12.6593 - mse: 241.2880\n",
            "Epoch 36/100\n",
            "2/2 [==============================] - 0s 7ms/step - loss: 21.6168 - mse: 666.3723\n",
            "Epoch 37/100\n",
            "2/2 [==============================] - 0s 8ms/step - loss: 11.3091 - mse: 148.5479\n",
            "Epoch 38/100\n",
            "2/2 [==============================] - 0s 8ms/step - loss: 13.3414 - mse: 263.0013\n",
            "Epoch 39/100\n",
            "2/2 [==============================] - 0s 8ms/step - loss: 10.7314 - mse: 136.1482\n",
            "Epoch 40/100\n",
            "2/2 [==============================] - 0s 7ms/step - loss: 16.1374 - mse: 375.9727\n",
            "Epoch 41/100\n",
            "2/2 [==============================] - 0s 7ms/step - loss: 12.1600 - mse: 187.7020\n",
            "Epoch 42/100\n",
            "2/2 [==============================] - 0s 7ms/step - loss: 10.1990 - mse: 115.0891\n",
            "Epoch 43/100\n",
            "2/2 [==============================] - 0s 7ms/step - loss: 9.8914 - mse: 107.0006\n",
            "Epoch 44/100\n",
            "2/2 [==============================] - 0s 7ms/step - loss: 31.4797 - mse: 1622.2529\n",
            "Epoch 45/100\n",
            "2/2 [==============================] - 0s 7ms/step - loss: 12.2511 - mse: 188.9705\n",
            "Epoch 46/100\n",
            "2/2 [==============================] - 0s 9ms/step - loss: 16.9027 - mse: 427.2151\n",
            "Epoch 47/100\n",
            "2/2 [==============================] - 0s 9ms/step - loss: 15.9805 - mse: 347.9538\n",
            "Epoch 48/100\n",
            "2/2 [==============================] - 0s 9ms/step - loss: 8.9098 - mse: 128.3968\n",
            "Epoch 49/100\n",
            "2/2 [==============================] - 0s 8ms/step - loss: 13.4361 - mse: 263.5066\n",
            "Epoch 50/100\n",
            "2/2 [==============================] - 0s 10ms/step - loss: 14.9826 - mse: 299.3270\n",
            "Epoch 51/100\n",
            "2/2 [==============================] - 0s 8ms/step - loss: 13.5526 - mse: 252.3713\n",
            "Epoch 52/100\n",
            "2/2 [==============================] - 0s 9ms/step - loss: 17.9914 - mse: 451.4139\n",
            "Epoch 53/100\n",
            "2/2 [==============================] - 0s 7ms/step - loss: 22.5055 - mse: 734.9321\n",
            "Epoch 54/100\n",
            "2/2 [==============================] - 0s 7ms/step - loss: 27.4502 - mse: 1168.7894\n",
            "Epoch 55/100\n",
            "2/2 [==============================] - 0s 10ms/step - loss: 27.1634 - mse: 1126.1000\n",
            "Epoch 56/100\n",
            "2/2 [==============================] - 0s 10ms/step - loss: 11.5787 - mse: 173.7859\n",
            "Epoch 57/100\n",
            "2/2 [==============================] - 0s 9ms/step - loss: 13.6789 - mse: 241.1715\n",
            "Epoch 58/100\n",
            "2/2 [==============================] - 0s 8ms/step - loss: 10.1281 - mse: 114.7607\n",
            "Epoch 59/100\n",
            "2/2 [==============================] - 0s 8ms/step - loss: 14.6265 - mse: 307.6496\n",
            "Epoch 60/100\n",
            "2/2 [==============================] - 0s 8ms/step - loss: 10.0701 - mse: 119.6400\n",
            "Epoch 61/100\n",
            "2/2 [==============================] - 0s 7ms/step - loss: 15.1366 - mse: 316.1541\n",
            "Epoch 62/100\n",
            "2/2 [==============================] - 0s 7ms/step - loss: 12.0349 - mse: 202.7925\n",
            "Epoch 63/100\n",
            "2/2 [==============================] - 0s 8ms/step - loss: 10.3509 - mse: 139.5759\n",
            "Epoch 64/100\n",
            "2/2 [==============================] - 0s 8ms/step - loss: 24.1472 - mse: 858.0295\n",
            "Epoch 65/100\n",
            "2/2 [==============================] - 0s 8ms/step - loss: 10.5296 - mse: 133.4698\n",
            "Epoch 66/100\n",
            "2/2 [==============================] - 0s 7ms/step - loss: 21.1607 - mse: 660.1029\n",
            "Epoch 67/100\n",
            "2/2 [==============================] - 0s 7ms/step - loss: 10.5205 - mse: 128.7841\n",
            "Epoch 68/100\n",
            "2/2 [==============================] - 0s 7ms/step - loss: 14.3368 - mse: 309.7275\n",
            "Epoch 69/100\n",
            "2/2 [==============================] - 0s 7ms/step - loss: 10.6042 - mse: 128.7482\n",
            "Epoch 70/100\n",
            "2/2 [==============================] - 0s 7ms/step - loss: 12.6856 - mse: 204.3459\n",
            "Epoch 71/100\n",
            "2/2 [==============================] - 0s 8ms/step - loss: 13.1114 - mse: 231.0458\n",
            "Epoch 72/100\n",
            "2/2 [==============================] - 0s 7ms/step - loss: 19.5635 - mse: 543.3035\n",
            "Epoch 73/100\n",
            "2/2 [==============================] - 0s 8ms/step - loss: 11.1888 - mse: 192.0755\n",
            "Epoch 74/100\n",
            "2/2 [==============================] - 0s 8ms/step - loss: 21.8228 - mse: 741.0981\n",
            "Epoch 75/100\n",
            "2/2 [==============================] - 0s 8ms/step - loss: 7.2152 - mse: 71.6687\n",
            "Epoch 76/100\n",
            "2/2 [==============================] - 0s 7ms/step - loss: 9.4360 - mse: 149.6739\n",
            "Epoch 77/100\n",
            "2/2 [==============================] - 0s 8ms/step - loss: 22.0902 - mse: 729.0575\n",
            "Epoch 78/100\n",
            "2/2 [==============================] - 0s 8ms/step - loss: 17.6227 - mse: 471.8998\n",
            "Epoch 79/100\n",
            "2/2 [==============================] - 0s 9ms/step - loss: 14.8155 - mse: 321.2371\n",
            "Epoch 80/100\n",
            "2/2 [==============================] - 0s 7ms/step - loss: 25.0789 - mse: 959.2787\n",
            "Epoch 81/100\n",
            "2/2 [==============================] - 0s 7ms/step - loss: 10.8915 - mse: 139.9655\n",
            "Epoch 82/100\n",
            "2/2 [==============================] - 0s 8ms/step - loss: 12.7763 - mse: 232.9207\n",
            "Epoch 83/100\n",
            "2/2 [==============================] - 0s 7ms/step - loss: 17.5597 - mse: 402.0644\n",
            "Epoch 84/100\n",
            "2/2 [==============================] - 0s 7ms/step - loss: 7.3019 - mse: 73.3394\n",
            "Epoch 85/100\n",
            "2/2 [==============================] - 0s 7ms/step - loss: 15.0737 - mse: 317.0792\n",
            "Epoch 86/100\n",
            "2/2 [==============================] - 0s 7ms/step - loss: 15.3748 - mse: 317.7612\n",
            "Epoch 87/100\n",
            "2/2 [==============================] - 0s 7ms/step - loss: 19.2811 - mse: 529.1359\n",
            "Epoch 88/100\n",
            "2/2 [==============================] - 0s 10ms/step - loss: 29.3765 - mse: 1246.2937\n",
            "Epoch 89/100\n",
            "2/2 [==============================] - 0s 8ms/step - loss: 10.1231 - mse: 124.3431\n",
            "Epoch 90/100\n",
            "2/2 [==============================] - 0s 7ms/step - loss: 21.1524 - mse: 640.6793\n",
            "Epoch 91/100\n",
            "2/2 [==============================] - 0s 7ms/step - loss: 10.4952 - mse: 163.6539\n",
            "Epoch 92/100\n",
            "2/2 [==============================] - 0s 9ms/step - loss: 18.0607 - mse: 446.3858\n",
            "Epoch 93/100\n",
            "2/2 [==============================] - 0s 7ms/step - loss: 6.5588 - mse: 61.1979\n",
            "Epoch 94/100\n",
            "2/2 [==============================] - 0s 7ms/step - loss: 11.1502 - mse: 154.0810\n",
            "Epoch 95/100\n",
            "2/2 [==============================] - 0s 7ms/step - loss: 24.4625 - mse: 898.1499\n",
            "Epoch 96/100\n",
            "2/2 [==============================] - 0s 7ms/step - loss: 10.7573 - mse: 172.3835\n",
            "Epoch 97/100\n",
            "2/2 [==============================] - 0s 7ms/step - loss: 15.4198 - mse: 360.4846\n",
            "Epoch 98/100\n",
            "2/2 [==============================] - 0s 7ms/step - loss: 8.2625 - mse: 110.6947\n",
            "Epoch 99/100\n",
            "2/2 [==============================] - 0s 7ms/step - loss: 16.5887 - mse: 386.3380\n",
            "Epoch 100/100\n",
            "2/2 [==============================] - 0s 7ms/step - loss: 14.3531 - mse: 297.6785\n"
          ]
        },
        {
          "data": {
            "text/plain": [
              "<keras.src.callbacks.History at 0x7ea2c4ea24a0>"
            ]
          },
          "execution_count": 34,
          "metadata": {},
          "output_type": "execute_result"
        }
      ],
      "source": [
        "tf.random.set_seed(42)\n",
        "\n",
        "model_2 = tf.keras.Sequential([\n",
        "    tf.keras.layers.Dense(10),\n",
        "    tf.keras.layers.Dense(1)\n",
        "])\n",
        "\n",
        "model_2.compile(loss=tf.keras.losses.mae,optimizer=tf.keras.optimizers.SGD(),metrics=['mse'])\n",
        "\n",
        "model_2.fit(tf.expand_dims(X_train, axis=-1),Y_train,epochs=100)"
      ]
    },
    {
      "cell_type": "code",
      "execution_count": null,
      "metadata": {
        "colab": {
          "background_save": true,
          "base_uri": "https://localhost:8080/"
        },
        "id": "bphSbGmbP6Ev",
        "outputId": "7dc051d1-dea7-4597-cf7f-0c83524782cd"
      },
      "outputs": [
        {
          "name": "stdout",
          "output_type": "stream",
          "text": [
            "1/1 [==============================] - 0s 52ms/step\n"
          ]
        },
        {
          "data": {
            "text/plain": [
              "array([[ 76.54727 ],\n",
              "       [ 81.53493 ],\n",
              "       [ 86.52259 ],\n",
              "       [ 91.510254],\n",
              "       [ 96.49792 ],\n",
              "       [101.48557 ],\n",
              "       [106.473236],\n",
              "       [111.4609  ],\n",
              "       [116.44857 ],\n",
              "       [121.436226]], dtype=float32)"
            ]
          },
          "execution_count": 35,
          "metadata": {},
          "output_type": "execute_result"
        }
      ],
      "source": [
        "y_pred_2 = model_2.predict(X_test)\n",
        "y_pred_2"
      ]
    },
    {
      "cell_type": "code",
      "execution_count": null,
      "metadata": {
        "colab": {
          "background_save": true,
          "base_uri": "https://localhost:8080/",
          "height": 599
        },
        "id": "o76jQn8rQAdP",
        "outputId": "d24cd6d3-fcd8-43f9-f078-c9f6a92ca0e2"
      },
      "outputs": [
        {
          "data": {
            "image/png": "[encoded data removed]",
            "text/plain": [
              "<Figure size 1000x700 with 1 Axes>"
            ]
          },
          "metadata": {},
          "output_type": "display_data"
        }
      ],
      "source": [
        "plot_predictions(predictions=y_pred_2)"
      ]
    },
    {
      "cell_type": "code",
      "execution_count": null,
      "metadata": {
        "colab": {
          "background_save": true
        },
        "id": "pJNmEGJfQuGY"
      },
      "outputs": [],
      "source": [
        "def mae(Y_test, y_pred):\n",
        "  return tf.keras.metrics.mean_absolute_error(y_true=Y_test,y_pred=tf.squeeze(y_pred))\n",
        "\n",
        "def mse(Y_test, y_pred):\n",
        "  return tf.keras.metrics.mean_squared_error(y_true=Y_test,y_pred=tf.squeeze(y_pred))"
      ]
    },
    {
      "cell_type": "code",
      "execution_count": null,
      "metadata": {
        "colab": {
          "background_save": true,
          "base_uri": "https://localhost:8080/"
        },
        "id": "ceLlncPKQRNA",
        "outputId": "2c66f1bf-e101-4d40-b984-3990e9c360fa"
      },
      "outputs": [
        {
          "data": {
            "text/plain": [
              "(<tf.Tensor: shape=(), dtype=float32, numpy=10.991747>,\n",
              " <tf.Tensor: shape=(), dtype=float32, numpy=128.86617>)"
            ]
          },
          "execution_count": 38,
          "metadata": {},
          "output_type": "execute_result"
        }
      ],
      "source": [
        "mae_2 = mae(Y_test,(y_pred_2))\n",
        "mse_2 = mse(Y_test, y_pred_2)\n",
        "mae_2,mse_2"
      ]
    },
    {
      "cell_type": "code",
      "execution_count": null,
      "metadata": {
        "colab": {
          "background_save": true,
          "base_uri": "https://localhost:8080/"
        },
        "id": "HG8Of6coSqH6",
        "outputId": "10b2bce7-aa6e-4b54-c6f1-7155cc7d98e6"
      },
      "outputs": [
        {
          "name": "stdout",
          "output_type": "stream",
          "text": [
            "Epoch 1/500\n",
            "2/2 [==============================] - 0s 9ms/step - loss: 23.1733 - mse: 914.5477\n",
            "Epoch 2/500\n",
            "2/2 [==============================] - 0s 7ms/step - loss: 22.5159 - mse: 665.0531\n",
            "Epoch 3/500\n",
            "2/2 [==============================] - 0s 7ms/step - loss: 28.2526 - mse: 1202.1111\n",
            "Epoch 4/500\n",
            "2/2 [==============================] - 0s 7ms/step - loss: 20.1906 - mse: 580.6797\n",
            "Epoch 5/500\n",
            "2/2 [==============================] - 0s 8ms/step - loss: 13.5954 - mse: 225.7641\n",
            "Epoch 6/500\n",
            "2/2 [==============================] - 0s 7ms/step - loss: 10.9494 - mse: 132.1774\n",
            "Epoch 7/500\n",
            "2/2 [==============================] - 0s 7ms/step - loss: 11.9415 - mse: 178.2141\n",
            "Epoch 8/500\n",
            "2/2 [==============================] - 0s 8ms/step - loss: 10.8368 - mse: 130.6788\n",
            "Epoch 9/500\n",
            "2/2 [==============================] - 0s 8ms/step - loss: 37.2440 - mse: 2130.1116\n",
            "Epoch 10/500\n",
            "2/2 [==============================] - 0s 12ms/step - loss: 24.9512 - mse: 872.7227\n",
            "Epoch 11/500\n",
            "2/2 [==============================] - 0s 8ms/step - loss: 11.0238 - mse: 181.2070\n",
            "Epoch 12/500\n",
            "2/2 [==============================] - 0s 8ms/step - loss: 24.4029 - mse: 836.4115\n",
            "Epoch 13/500\n",
            "2/2 [==============================] - 0s 7ms/step - loss: 19.3158 - mse: 525.2531\n",
            "Epoch 14/500\n",
            "2/2 [==============================] - 0s 11ms/step - loss: 23.5613 - mse: 850.8416\n",
            "Epoch 15/500\n",
            "2/2 [==============================] - 0s 10ms/step - loss: 15.6715 - mse: 334.0483\n",
            "Epoch 16/500\n",
            "2/2 [==============================] - 0s 7ms/step - loss: 10.3978 - mse: 124.4668\n",
            "Epoch 17/500\n",
            "2/2 [==============================] - 0s 8ms/step - loss: 19.5886 - mse: 521.3437\n",
            "Epoch 18/500\n",
            "2/2 [==============================] - 0s 8ms/step - loss: 13.2440 - mse: 273.7480\n",
            "Epoch 19/500\n",
            "2/2 [==============================] - 0s 8ms/step - loss: 15.9976 - mse: 408.8502\n",
            "Epoch 20/500\n",
            "2/2 [==============================] - 0s 8ms/step - loss: 10.1780 - mse: 154.3109\n",
            "Epoch 21/500\n",
            "2/2 [==============================] - 0s 7ms/step - loss: 13.7161 - mse: 247.6305\n",
            "Epoch 22/500\n",
            "2/2 [==============================] - 0s 8ms/step - loss: 21.9024 - mse: 680.1559\n",
            "Epoch 23/500\n",
            "2/2 [==============================] - 0s 7ms/step - loss: 10.4568 - mse: 166.4197\n",
            "Epoch 24/500\n",
            "2/2 [==============================] - 0s 7ms/step - loss: 15.7576 - mse: 333.3818\n",
            "Epoch 25/500\n",
            "2/2 [==============================] - 0s 10ms/step - loss: 14.9042 - mse: 292.3603\n",
            "Epoch 26/500\n",
            "2/2 [==============================] - 0s 10ms/step - loss: 19.5388 - mse: 578.5480\n",
            "Epoch 27/500\n",
            "2/2 [==============================] - 0s 8ms/step - loss: 20.5004 - mse: 635.2202\n",
            "Epoch 28/500\n",
            "2/2 [==============================] - 0s 8ms/step - loss: 14.8785 - mse: 341.0773\n",
            "Epoch 29/500\n",
            "2/2 [==============================] - 0s 8ms/step - loss: 9.2578 - mse: 93.3420\n",
            "Epoch 30/500\n",
            "2/2 [==============================] - 0s 9ms/step - loss: 30.2438 - mse: 1669.1367\n",
            "Epoch 31/500\n",
            "2/2 [==============================] - 0s 9ms/step - loss: 54.9392 - mse: 5411.8330\n",
            "Epoch 32/500\n",
            "2/2 [==============================] - 0s 8ms/step - loss: 9.6697 - mse: 102.4180\n",
            "Epoch 33/500\n",
            "2/2 [==============================] - 0s 9ms/step - loss: 12.2767 - mse: 188.9358\n",
            "Epoch 34/500\n",
            "2/2 [==============================] - 0s 7ms/step - loss: 24.3637 - mse: 901.3119\n",
            "Epoch 35/500\n",
            "2/2 [==============================] - 0s 9ms/step - loss: 11.9649 - mse: 209.9359\n",
            "Epoch 36/500\n",
            "2/2 [==============================] - 0s 7ms/step - loss: 22.2325 - mse: 702.8199\n",
            "Epoch 37/500\n",
            "2/2 [==============================] - 0s 7ms/step - loss: 17.3448 - mse: 428.0416\n",
            "Epoch 38/500\n",
            "2/2 [==============================] - 0s 10ms/step - loss: 10.6528 - mse: 130.2882\n",
            "Epoch 39/500\n",
            "2/2 [==============================] - 0s 8ms/step - loss: 11.1698 - mse: 161.2219\n",
            "Epoch 40/500\n",
            "2/2 [==============================] - 0s 7ms/step - loss: 17.9565 - mse: 466.6032\n",
            "Epoch 41/500\n",
            "2/2 [==============================] - 0s 8ms/step - loss: 10.3858 - mse: 183.2051\n",
            "Epoch 42/500\n",
            "2/2 [==============================] - 0s 7ms/step - loss: 7.2677 - mse: 75.6285\n",
            "Epoch 43/500\n",
            "2/2 [==============================] - 0s 7ms/step - loss: 18.9259 - mse: 530.8561\n",
            "Epoch 44/500\n",
            "2/2 [==============================] - 0s 7ms/step - loss: 20.0760 - mse: 623.1384\n",
            "Epoch 45/500\n",
            "2/2 [==============================] - 0s 8ms/step - loss: 10.1080 - mse: 127.6317\n",
            "Epoch 46/500\n",
            "2/2 [==============================] - 0s 7ms/step - loss: 11.3651 - mse: 159.6835\n",
            "Epoch 47/500\n",
            "2/2 [==============================] - 0s 7ms/step - loss: 9.8208 - mse: 152.7582\n",
            "Epoch 48/500\n",
            "2/2 [==============================] - 0s 8ms/step - loss: 17.6164 - mse: 422.0242\n",
            "Epoch 49/500\n",
            "2/2 [==============================] - 0s 8ms/step - loss: 9.3232 - mse: 95.4044\n",
            "Epoch 50/500\n",
            "2/2 [==============================] - 0s 7ms/step - loss: 13.3675 - mse: 235.6979\n",
            "Epoch 51/500\n",
            "2/2 [==============================] - 0s 8ms/step - loss: 11.4277 - mse: 148.4841\n",
            "Epoch 52/500\n",
            "2/2 [==============================] - 0s 7ms/step - loss: 29.3941 - mse: 1481.5505\n",
            "Epoch 53/500\n",
            "2/2 [==============================] - 0s 7ms/step - loss: 16.7449 - mse: 415.1069\n",
            "Epoch 54/500\n",
            "2/2 [==============================] - 0s 7ms/step - loss: 21.7226 - mse: 695.7888\n",
            "Epoch 55/500\n",
            "2/2 [==============================] - 0s 7ms/step - loss: 22.1678 - mse: 735.3518\n",
            "Epoch 56/500\n",
            "2/2 [==============================] - 0s 7ms/step - loss: 11.2357 - mse: 171.3790\n",
            "Epoch 57/500\n",
            "2/2 [==============================] - 0s 8ms/step - loss: 13.2147 - mse: 218.3483\n",
            "Epoch 58/500\n",
            "2/2 [==============================] - 0s 8ms/step - loss: 9.8677 - mse: 107.4767\n",
            "Epoch 59/500\n",
            "2/2 [==============================] - 0s 8ms/step - loss: 13.4087 - mse: 255.1047\n",
            "Epoch 60/500\n",
            "2/2 [==============================] - 0s 8ms/step - loss: 10.9336 - mse: 141.5319\n",
            "Epoch 61/500\n",
            "2/2 [==============================] - 0s 7ms/step - loss: 13.5586 - mse: 246.3730\n",
            "Epoch 62/500\n",
            "2/2 [==============================] - 0s 8ms/step - loss: 17.8816 - mse: 486.8456\n",
            "Epoch 63/500\n",
            "2/2 [==============================] - 0s 7ms/step - loss: 8.7362 - mse: 91.9789\n",
            "Epoch 64/500\n",
            "2/2 [==============================] - 0s 8ms/step - loss: 16.1403 - mse: 373.4604\n",
            "Epoch 65/500\n",
            "2/2 [==============================] - 0s 8ms/step - loss: 10.7451 - mse: 146.7073\n",
            "Epoch 66/500\n",
            "2/2 [==============================] - 0s 8ms/step - loss: 22.1942 - mse: 729.8104\n",
            "Epoch 67/500\n",
            "2/2 [==============================] - 0s 9ms/step - loss: 10.2682 - mse: 121.2289\n",
            "Epoch 68/500\n",
            "2/2 [==============================] - 0s 11ms/step - loss: 13.4736 - mse: 269.3289\n",
            "Epoch 69/500\n",
            "2/2 [==============================] - 0s 13ms/step - loss: 11.4345 - mse: 163.3524\n",
            "Epoch 70/500\n",
            "2/2 [==============================] - 0s 8ms/step - loss: 13.6199 - mse: 246.0712\n",
            "Epoch 71/500\n",
            "2/2 [==============================] - 0s 7ms/step - loss: 15.6342 - mse: 347.3187\n",
            "Epoch 72/500\n",
            "2/2 [==============================] - 0s 8ms/step - loss: 11.8547 - mse: 168.5776\n",
            "Epoch 73/500\n",
            "2/2 [==============================] - 0s 8ms/step - loss: 16.6360 - mse: 372.9646\n",
            "Epoch 74/500\n",
            "2/2 [==============================] - 0s 8ms/step - loss: 24.1664 - mse: 919.2285\n",
            "Epoch 75/500\n",
            "2/2 [==============================] - 0s 7ms/step - loss: 9.6344 - mse: 149.1057\n",
            "Epoch 76/500\n",
            "2/2 [==============================] - 0s 7ms/step - loss: 12.4875 - mse: 190.0084\n",
            "Epoch 77/500\n",
            "2/2 [==============================] - 0s 8ms/step - loss: 16.7333 - mse: 434.2111\n",
            "Epoch 78/500\n",
            "2/2 [==============================] - 0s 7ms/step - loss: 9.0850 - mse: 96.5810\n",
            "Epoch 79/500\n",
            "2/2 [==============================] - 0s 10ms/step - loss: 24.0615 - mse: 871.8995\n",
            "Epoch 80/500\n",
            "2/2 [==============================] - 0s 8ms/step - loss: 26.8604 - mse: 1114.8546\n",
            "Epoch 81/500\n",
            "2/2 [==============================] - 0s 7ms/step - loss: 11.7358 - mse: 173.2684\n",
            "Epoch 82/500\n",
            "2/2 [==============================] - 0s 7ms/step - loss: 11.9979 - mse: 211.5855\n",
            "Epoch 83/500\n",
            "2/2 [==============================] - 0s 7ms/step - loss: 17.3878 - mse: 393.8611\n",
            "Epoch 84/500\n",
            "2/2 [==============================] - 0s 8ms/step - loss: 7.2686 - mse: 73.3785\n",
            "Epoch 85/500\n",
            "2/2 [==============================] - 0s 8ms/step - loss: 14.9432 - mse: 311.9622\n",
            "Epoch 86/500\n",
            "2/2 [==============================] - 0s 8ms/step - loss: 15.2704 - mse: 315.0604\n",
            "Epoch 87/500\n",
            "2/2 [==============================] - 0s 7ms/step - loss: 19.0711 - mse: 519.5242\n",
            "Epoch 88/500\n",
            "2/2 [==============================] - 0s 7ms/step - loss: 29.9254 - mse: 1296.7019\n",
            "Epoch 89/500\n",
            "2/2 [==============================] - 0s 10ms/step - loss: 10.2018 - mse: 124.4345\n",
            "Epoch 90/500\n",
            "2/2 [==============================] - 0s 7ms/step - loss: 21.6034 - mse: 668.9640\n",
            "Epoch 91/500\n",
            "2/2 [==============================] - 0s 9ms/step - loss: 10.6022 - mse: 161.7167\n",
            "Epoch 92/500\n",
            "2/2 [==============================] - 0s 13ms/step - loss: 18.4663 - mse: 467.7788\n",
            "Epoch 93/500\n",
            "2/2 [==============================] - 0s 11ms/step - loss: 7.4303 - mse: 81.7614\n",
            "Epoch 94/500\n",
            "2/2 [==============================] - 0s 11ms/step - loss: 17.7963 - mse: 448.7672\n",
            "Epoch 95/500\n",
            "2/2 [==============================] - 0s 10ms/step - loss: 11.1466 - mse: 165.6250\n",
            "Epoch 96/500\n",
            "2/2 [==============================] - 0s 7ms/step - loss: 19.4923 - mse: 513.5020\n",
            "Epoch 97/500\n",
            "2/2 [==============================] - 0s 8ms/step - loss: 12.5229 - mse: 225.2402\n",
            "Epoch 98/500\n",
            "2/2 [==============================] - 0s 10ms/step - loss: 10.3121 - mse: 137.4934\n",
            "Epoch 99/500\n",
            "2/2 [==============================] - 0s 8ms/step - loss: 13.8497 - mse: 263.7572\n",
            "Epoch 100/500\n",
            "2/2 [==============================] - 0s 8ms/step - loss: 20.1546 - mse: 604.2149\n",
            "Epoch 101/500\n",
            "2/2 [==============================] - 0s 12ms/step - loss: 11.4328 - mse: 175.6553\n",
            "Epoch 102/500\n",
            "2/2 [==============================] - 0s 10ms/step - loss: 17.4169 - mse: 423.1733\n",
            "Epoch 103/500\n",
            "2/2 [==============================] - 0s 8ms/step - loss: 7.7735 - mse: 82.6257\n",
            "Epoch 104/500\n",
            "2/2 [==============================] - 0s 8ms/step - loss: 22.1137 - mse: 672.7582\n",
            "Epoch 105/500\n",
            "2/2 [==============================] - 0s 7ms/step - loss: 20.6901 - mse: 656.6977\n",
            "Epoch 106/500\n",
            "2/2 [==============================] - 0s 8ms/step - loss: 10.0536 - mse: 178.4236\n",
            "Epoch 107/500\n",
            "2/2 [==============================] - 0s 8ms/step - loss: 24.6384 - mse: 888.1901\n",
            "Epoch 108/500\n",
            "2/2 [==============================] - 0s 7ms/step - loss: 15.4672 - mse: 358.4959\n",
            "Epoch 109/500\n",
            "2/2 [==============================] - 0s 7ms/step - loss: 8.1819 - mse: 108.5215\n",
            "Epoch 110/500\n",
            "2/2 [==============================] - 0s 7ms/step - loss: 6.7400 - mse: 64.1545\n",
            "Epoch 111/500\n",
            "2/2 [==============================] - 0s 8ms/step - loss: 11.0057 - mse: 181.1977\n",
            "Epoch 112/500\n",
            "2/2 [==============================] - 0s 8ms/step - loss: 19.9022 - mse: 579.5076\n",
            "Epoch 113/500\n",
            "2/2 [==============================] - 0s 8ms/step - loss: 14.6762 - mse: 318.3214\n",
            "Epoch 114/500\n",
            "2/2 [==============================] - 0s 8ms/step - loss: 18.4129 - mse: 509.1827\n",
            "Epoch 115/500\n",
            "2/2 [==============================] - 0s 9ms/step - loss: 10.8996 - mse: 144.1293\n",
            "Epoch 116/500\n",
            "2/2 [==============================] - 0s 9ms/step - loss: 22.3920 - mse: 727.5663\n",
            "Epoch 117/500\n",
            "2/2 [==============================] - 0s 8ms/step - loss: 9.3458 - mse: 128.2567\n",
            "Epoch 118/500\n",
            "2/2 [==============================] - 0s 8ms/step - loss: 10.3706 - mse: 132.5949\n",
            "Epoch 119/500\n",
            "2/2 [==============================] - 0s 8ms/step - loss: 8.0275 - mse: 73.1235\n",
            "Epoch 120/500\n",
            "2/2 [==============================] - 0s 8ms/step - loss: 37.7801 - mse: 2226.4966\n",
            "Epoch 121/500\n",
            "2/2 [==============================] - 0s 8ms/step - loss: 10.6774 - mse: 169.0661\n",
            "Epoch 122/500\n",
            "2/2 [==============================] - 0s 8ms/step - loss: 28.3158 - mse: 1234.5942\n",
            "Epoch 123/500\n",
            "2/2 [==============================] - 0s 8ms/step - loss: 32.9068 - mse: 1593.0842\n",
            "Epoch 124/500\n",
            "2/2 [==============================] - 0s 8ms/step - loss: 19.6449 - mse: 572.6549\n",
            "Epoch 125/500\n",
            "2/2 [==============================] - 0s 13ms/step - loss: 7.0541 - mse: 72.9284\n",
            "Epoch 126/500\n",
            "2/2 [==============================] - 0s 11ms/step - loss: 21.7975 - mse: 665.7333\n",
            "Epoch 127/500\n",
            "2/2 [==============================] - 0s 9ms/step - loss: 8.0170 - mse: 70.0710\n",
            "Epoch 128/500\n",
            "2/2 [==============================] - 0s 11ms/step - loss: 21.0334 - mse: 651.8947\n",
            "Epoch 129/500\n",
            "2/2 [==============================] - 0s 8ms/step - loss: 9.0458 - mse: 120.7250\n",
            "Epoch 130/500\n",
            "2/2 [==============================] - 0s 8ms/step - loss: 23.9981 - mse: 812.2268\n",
            "Epoch 131/500\n",
            "2/2 [==============================] - 0s 8ms/step - loss: 9.7826 - mse: 132.6057\n",
            "Epoch 132/500\n",
            "2/2 [==============================] - 0s 8ms/step - loss: 18.2510 - mse: 497.6800\n",
            "Epoch 133/500\n",
            "2/2 [==============================] - 0s 7ms/step - loss: 7.6107 - mse: 81.3170\n",
            "Epoch 134/500\n",
            "2/2 [==============================] - 0s 8ms/step - loss: 18.5128 - mse: 502.6512\n",
            "Epoch 135/500\n",
            "2/2 [==============================] - 0s 7ms/step - loss: 10.5489 - mse: 149.2842\n",
            "Epoch 136/500\n",
            "2/2 [==============================] - 0s 7ms/step - loss: 18.2029 - mse: 468.6855\n",
            "Epoch 137/500\n",
            "2/2 [==============================] - 0s 8ms/step - loss: 23.0602 - mse: 717.1069\n",
            "Epoch 138/500\n",
            "2/2 [==============================] - 0s 10ms/step - loss: 9.1238 - mse: 140.6429\n",
            "Epoch 139/500\n",
            "2/2 [==============================] - 0s 10ms/step - loss: 8.9194 - mse: 146.3813\n",
            "Epoch 140/500\n",
            "2/2 [==============================] - 0s 8ms/step - loss: 16.3710 - mse: 384.6229\n",
            "Epoch 141/500\n",
            "2/2 [==============================] - 0s 8ms/step - loss: 8.4541 - mse: 90.5313\n",
            "Epoch 142/500\n",
            "2/2 [==============================] - 0s 8ms/step - loss: 36.6826 - mse: 2367.4297\n",
            "Epoch 143/500\n",
            "2/2 [==============================] - 0s 9ms/step - loss: 25.3868 - mse: 911.8152\n",
            "Epoch 144/500\n",
            "2/2 [==============================] - 0s 8ms/step - loss: 10.4683 - mse: 186.1139\n",
            "Epoch 145/500\n",
            "2/2 [==============================] - 0s 8ms/step - loss: 25.7710 - mse: 898.4403\n",
            "Epoch 146/500\n",
            "2/2 [==============================] - 0s 7ms/step - loss: 10.0518 - mse: 133.6440\n",
            "Epoch 147/500\n",
            "2/2 [==============================] - 0s 10ms/step - loss: 14.6774 - mse: 290.3328\n",
            "Epoch 148/500\n",
            "2/2 [==============================] - 0s 8ms/step - loss: 17.7669 - mse: 435.2177\n",
            "Epoch 149/500\n",
            "2/2 [==============================] - 0s 10ms/step - loss: 8.5232 - mse: 105.7093\n",
            "Epoch 150/500\n",
            "2/2 [==============================] - 0s 7ms/step - loss: 7.6492 - mse: 66.3345\n",
            "Epoch 151/500\n",
            "2/2 [==============================] - 0s 8ms/step - loss: 19.0193 - mse: 525.8483\n",
            "Epoch 152/500\n",
            "2/2 [==============================] - 0s 8ms/step - loss: 10.5119 - mse: 138.4756\n",
            "Epoch 153/500\n",
            "2/2 [==============================] - 0s 7ms/step - loss: 30.6453 - mse: 1365.3358\n",
            "Epoch 154/500\n",
            "2/2 [==============================] - 0s 8ms/step - loss: 9.9475 - mse: 179.1906\n",
            "Epoch 155/500\n",
            "2/2 [==============================] - 0s 7ms/step - loss: 15.6972 - mse: 364.4232\n",
            "Epoch 156/500\n",
            "2/2 [==============================] - 0s 7ms/step - loss: 17.5536 - mse: 459.4110\n",
            "Epoch 157/500\n",
            "2/2 [==============================] - 0s 7ms/step - loss: 31.4200 - mse: 1588.4971\n",
            "Epoch 158/500\n",
            "2/2 [==============================] - 0s 7ms/step - loss: 10.3093 - mse: 140.8636\n",
            "Epoch 159/500\n",
            "2/2 [==============================] - 0s 10ms/step - loss: 8.7352 - mse: 97.9018\n",
            "Epoch 160/500\n",
            "2/2 [==============================] - 0s 8ms/step - loss: 20.9622 - mse: 633.4242\n",
            "Epoch 161/500\n",
            "2/2 [==============================] - 0s 8ms/step - loss: 12.4022 - mse: 233.6479\n",
            "Epoch 162/500\n",
            "2/2 [==============================] - 0s 8ms/step - loss: 18.9193 - mse: 511.0732\n",
            "Epoch 163/500\n",
            "2/2 [==============================] - 0s 7ms/step - loss: 17.8706 - mse: 458.0155\n",
            "Epoch 164/500\n",
            "2/2 [==============================] - 0s 8ms/step - loss: 11.4476 - mse: 197.3633\n",
            "Epoch 165/500\n",
            "2/2 [==============================] - 0s 8ms/step - loss: 11.6079 - mse: 227.6521\n",
            "Epoch 166/500\n",
            "2/2 [==============================] - 0s 7ms/step - loss: 21.3450 - mse: 669.5327\n",
            "Epoch 167/500\n",
            "2/2 [==============================] - 0s 7ms/step - loss: 26.9168 - mse: 1103.4264\n",
            "Epoch 168/500\n",
            "2/2 [==============================] - 0s 7ms/step - loss: 10.0235 - mse: 121.1581\n",
            "Epoch 169/500\n",
            "2/2 [==============================] - 0s 7ms/step - loss: 23.1553 - mse: 830.8512\n",
            "Epoch 170/500\n",
            "2/2 [==============================] - 0s 8ms/step - loss: 9.5970 - mse: 170.8628\n",
            "Epoch 171/500\n",
            "2/2 [==============================] - 0s 7ms/step - loss: 15.8555 - mse: 377.7950\n",
            "Epoch 172/500\n",
            "2/2 [==============================] - 0s 7ms/step - loss: 13.8918 - mse: 285.2929\n",
            "Epoch 173/500\n",
            "2/2 [==============================] - 0s 8ms/step - loss: 22.5812 - mse: 721.0132\n",
            "Epoch 174/500\n",
            "2/2 [==============================] - 0s 7ms/step - loss: 11.3663 - mse: 180.1592\n",
            "Epoch 175/500\n",
            "2/2 [==============================] - 0s 8ms/step - loss: 20.0890 - mse: 652.7872\n",
            "Epoch 176/500\n",
            "2/2 [==============================] - 0s 8ms/step - loss: 7.4248 - mse: 69.1140\n",
            "Epoch 177/500\n",
            "2/2 [==============================] - 0s 7ms/step - loss: 8.6129 - mse: 105.3173\n",
            "Epoch 178/500\n",
            "2/2 [==============================] - 0s 8ms/step - loss: 15.4931 - mse: 345.6565\n",
            "Epoch 179/500\n",
            "2/2 [==============================] - 0s 7ms/step - loss: 9.3004 - mse: 120.4392\n",
            "Epoch 180/500\n",
            "2/2 [==============================] - 0s 7ms/step - loss: 8.1454 - mse: 94.0588\n",
            "Epoch 181/500\n",
            "2/2 [==============================] - 0s 7ms/step - loss: 18.7205 - mse: 505.1107\n",
            "Epoch 182/500\n",
            "2/2 [==============================] - 0s 7ms/step - loss: 10.7930 - mse: 151.8629\n",
            "Epoch 183/500\n",
            "2/2 [==============================] - 0s 7ms/step - loss: 10.9126 - mse: 174.5874\n",
            "Epoch 184/500\n",
            "2/2 [==============================] - 0s 7ms/step - loss: 33.7090 - mse: 1726.0642\n",
            "Epoch 185/500\n",
            "2/2 [==============================] - 0s 7ms/step - loss: 7.6382 - mse: 93.5139\n",
            "Epoch 186/500\n",
            "2/2 [==============================] - 0s 7ms/step - loss: 16.7776 - mse: 399.9338\n",
            "Epoch 187/500\n",
            "2/2 [==============================] - 0s 10ms/step - loss: 10.1966 - mse: 192.8048\n",
            "Epoch 188/500\n",
            "2/2 [==============================] - 0s 7ms/step - loss: 23.0419 - mse: 778.3328\n",
            "Epoch 189/500\n",
            "2/2 [==============================] - 0s 8ms/step - loss: 9.8897 - mse: 134.4294\n",
            "Epoch 190/500\n",
            "2/2 [==============================] - 0s 7ms/step - loss: 15.2950 - mse: 329.2858\n",
            "Epoch 191/500\n",
            "2/2 [==============================] - 0s 7ms/step - loss: 9.9611 - mse: 171.8641\n",
            "Epoch 192/500\n",
            "2/2 [==============================] - 0s 7ms/step - loss: 14.9964 - mse: 293.7019\n",
            "Epoch 193/500\n",
            "2/2 [==============================] - 0s 7ms/step - loss: 29.6727 - mse: 1217.9960\n",
            "Epoch 194/500\n",
            "2/2 [==============================] - 0s 6ms/step - loss: 8.3827 - mse: 126.7951\n",
            "Epoch 195/500\n",
            "2/2 [==============================] - 0s 7ms/step - loss: 12.9099 - mse: 248.0305\n",
            "Epoch 196/500\n",
            "2/2 [==============================] - 0s 7ms/step - loss: 23.9467 - mse: 825.1429\n",
            "Epoch 197/500\n",
            "2/2 [==============================] - 0s 7ms/step - loss: 16.7758 - mse: 414.2110\n",
            "Epoch 198/500\n",
            "2/2 [==============================] - 0s 7ms/step - loss: 11.4671 - mse: 198.1745\n",
            "Epoch 199/500\n",
            "2/2 [==============================] - 0s 8ms/step - loss: 19.5751 - mse: 550.7164\n",
            "Epoch 200/500\n",
            "2/2 [==============================] - 0s 7ms/step - loss: 15.5636 - mse: 364.0587\n",
            "Epoch 201/500\n",
            "2/2 [==============================] - 0s 7ms/step - loss: 5.7398 - mse: 44.8714\n",
            "Epoch 202/500\n",
            "2/2 [==============================] - 0s 7ms/step - loss: 28.2067 - mse: 1073.3766\n",
            "Epoch 203/500\n",
            "2/2 [==============================] - 0s 7ms/step - loss: 9.7715 - mse: 136.6821\n",
            "Epoch 204/500\n",
            "2/2 [==============================] - 0s 8ms/step - loss: 22.3089 - mse: 742.2179\n",
            "Epoch 205/500\n",
            "2/2 [==============================] - 0s 8ms/step - loss: 10.0558 - mse: 134.0632\n",
            "Epoch 206/500\n",
            "2/2 [==============================] - 0s 7ms/step - loss: 12.3581 - mse: 216.6242\n",
            "Epoch 207/500\n",
            "2/2 [==============================] - 0s 8ms/step - loss: 15.5434 - mse: 368.4454\n",
            "Epoch 208/500\n",
            "2/2 [==============================] - 0s 8ms/step - loss: 14.0378 - mse: 286.4204\n",
            "Epoch 209/500\n",
            "2/2 [==============================] - 0s 8ms/step - loss: 16.2472 - mse: 393.3543\n",
            "Epoch 210/500\n",
            "2/2 [==============================] - 0s 7ms/step - loss: 17.6697 - mse: 456.1380\n",
            "Epoch 211/500\n",
            "2/2 [==============================] - 0s 7ms/step - loss: 9.7874 - mse: 146.8345\n",
            "Epoch 212/500\n",
            "2/2 [==============================] - 0s 7ms/step - loss: 18.0441 - mse: 492.8102\n",
            "Epoch 213/500\n",
            "2/2 [==============================] - 0s 8ms/step - loss: 15.1341 - mse: 310.7043\n",
            "Epoch 214/500\n",
            "2/2 [==============================] - 0s 7ms/step - loss: 14.6523 - mse: 296.9170\n",
            "Epoch 215/500\n",
            "2/2 [==============================] - 0s 7ms/step - loss: 23.4205 - mse: 806.4692\n",
            "Epoch 216/500\n",
            "2/2 [==============================] - 0s 7ms/step - loss: 12.8684 - mse: 255.8923\n",
            "Epoch 217/500\n",
            "2/2 [==============================] - 0s 7ms/step - loss: 12.0168 - mse: 220.4429\n",
            "Epoch 218/500\n",
            "2/2 [==============================] - 0s 8ms/step - loss: 17.1043 - mse: 388.0811\n",
            "Epoch 219/500\n",
            "2/2 [==============================] - 0s 8ms/step - loss: 9.4933 - mse: 166.0838\n",
            "Epoch 220/500\n",
            "2/2 [==============================] - 0s 8ms/step - loss: 13.8647 - mse: 270.6061\n",
            "Epoch 221/500\n",
            "2/2 [==============================] - 0s 11ms/step - loss: 32.2669 - mse: 1423.2106\n",
            "Epoch 222/500\n",
            "2/2 [==============================] - 0s 7ms/step - loss: 11.0589 - mse: 190.4829\n",
            "Epoch 223/500\n",
            "2/2 [==============================] - 0s 7ms/step - loss: 8.6490 - mse: 134.5038\n",
            "Epoch 224/500\n",
            "2/2 [==============================] - 0s 7ms/step - loss: 14.5719 - mse: 310.4265\n",
            "Epoch 225/500\n",
            "2/2 [==============================] - 0s 8ms/step - loss: 16.5819 - mse: 353.8559\n",
            "Epoch 226/500\n",
            "2/2 [==============================] - 0s 8ms/step - loss: 15.8091 - mse: 362.1389\n",
            "Epoch 227/500\n",
            "2/2 [==============================] - 0s 7ms/step - loss: 16.0231 - mse: 361.8359\n",
            "Epoch 228/500\n",
            "2/2 [==============================] - 0s 7ms/step - loss: 13.8102 - mse: 275.7321\n",
            "Epoch 229/500\n",
            "2/2 [==============================] - 0s 9ms/step - loss: 17.9172 - mse: 448.3809\n",
            "Epoch 230/500\n",
            "2/2 [==============================] - 0s 9ms/step - loss: 15.5250 - mse: 312.3615\n",
            "Epoch 231/500\n",
            "2/2 [==============================] - 0s 8ms/step - loss: 21.0017 - mse: 660.5236\n",
            "Epoch 232/500\n",
            "2/2 [==============================] - 0s 8ms/step - loss: 25.7335 - mse: 949.4237\n",
            "Epoch 233/500\n",
            "2/2 [==============================] - 0s 7ms/step - loss: 16.6808 - mse: 403.5895\n",
            "Epoch 234/500\n",
            "2/2 [==============================] - 0s 7ms/step - loss: 7.3941 - mse: 68.1432\n",
            "Epoch 235/500\n",
            "2/2 [==============================] - 0s 8ms/step - loss: 17.3236 - mse: 420.3842\n",
            "Epoch 236/500\n",
            "2/2 [==============================] - 0s 7ms/step - loss: 7.2744 - mse: 70.7581\n",
            "Epoch 237/500\n",
            "2/2 [==============================] - 0s 7ms/step - loss: 9.3994 - mse: 121.7393\n",
            "Epoch 238/500\n",
            "2/2 [==============================] - 0s 7ms/step - loss: 8.2162 - mse: 87.7165\n",
            "Epoch 239/500\n",
            "2/2 [==============================] - 0s 7ms/step - loss: 17.3610 - mse: 452.7641\n",
            "Epoch 240/500\n",
            "2/2 [==============================] - 0s 8ms/step - loss: 9.0152 - mse: 109.4093\n",
            "Epoch 241/500\n",
            "2/2 [==============================] - 0s 8ms/step - loss: 13.4013 - mse: 279.1540\n",
            "Epoch 242/500\n",
            "2/2 [==============================] - 0s 7ms/step - loss: 8.9067 - mse: 107.5209\n",
            "Epoch 243/500\n",
            "2/2 [==============================] - 0s 8ms/step - loss: 19.2270 - mse: 564.9103\n",
            "Epoch 244/500\n",
            "2/2 [==============================] - 0s 8ms/step - loss: 13.9198 - mse: 272.3422\n",
            "Epoch 245/500\n",
            "2/2 [==============================] - 0s 7ms/step - loss: 14.5641 - mse: 284.2776\n",
            "Epoch 246/500\n",
            "2/2 [==============================] - 0s 7ms/step - loss: 15.7068 - mse: 363.4391\n",
            "Epoch 247/500\n",
            "2/2 [==============================] - 0s 7ms/step - loss: 17.5511 - mse: 413.6297\n",
            "Epoch 248/500\n",
            "2/2 [==============================] - 0s 7ms/step - loss: 13.1167 - mse: 250.4453\n",
            "Epoch 249/500\n",
            "2/2 [==============================] - 0s 7ms/step - loss: 14.4440 - mse: 285.2789\n",
            "Epoch 250/500\n",
            "2/2 [==============================] - 0s 7ms/step - loss: 27.8500 - mse: 1103.2568\n",
            "Epoch 251/500\n",
            "2/2 [==============================] - 0s 9ms/step - loss: 7.5291 - mse: 70.1518\n",
            "Epoch 252/500\n",
            "2/2 [==============================] - 0s 9ms/step - loss: 38.0494 - mse: 2390.1318\n",
            "Epoch 253/500\n",
            "2/2 [==============================] - 0s 7ms/step - loss: 22.8859 - mse: 736.3018\n",
            "Epoch 254/500\n",
            "2/2 [==============================] - 0s 7ms/step - loss: 7.4584 - mse: 73.7688\n",
            "Epoch 255/500\n",
            "2/2 [==============================] - 0s 6ms/step - loss: 25.7616 - mse: 970.1263\n",
            "Epoch 256/500\n",
            "2/2 [==============================] - 0s 9ms/step - loss: 13.7087 - mse: 274.9149\n",
            "Epoch 257/500\n",
            "2/2 [==============================] - 0s 7ms/step - loss: 8.3497 - mse: 111.4832\n",
            "Epoch 258/500\n",
            "2/2 [==============================] - 0s 9ms/step - loss: 13.1929 - mse: 272.8381\n",
            "Epoch 259/500\n",
            "2/2 [==============================] - 0s 7ms/step - loss: 9.5363 - mse: 125.4809\n",
            "Epoch 260/500\n",
            "2/2 [==============================] - 0s 12ms/step - loss: 38.3915 - mse: 2321.4519\n",
            "Epoch 261/500\n",
            "2/2 [==============================] - 0s 10ms/step - loss: 15.5046 - mse: 351.5804\n",
            "Epoch 262/500\n",
            "2/2 [==============================] - 0s 7ms/step - loss: 5.7954 - mse: 61.8327\n",
            "Epoch 263/500\n",
            "2/2 [==============================] - 0s 6ms/step - loss: 14.6150 - mse: 307.0964\n",
            "Epoch 264/500\n",
            "2/2 [==============================] - 0s 9ms/step - loss: 18.7805 - mse: 523.8024\n",
            "Epoch 265/500\n",
            "2/2 [==============================] - 0s 9ms/step - loss: 13.0530 - mse: 257.9500\n",
            "Epoch 266/500\n",
            "2/2 [==============================] - 0s 7ms/step - loss: 10.5712 - mse: 239.6173\n",
            "Epoch 267/500\n",
            "2/2 [==============================] - 0s 10ms/step - loss: 5.5143 - mse: 43.2912\n",
            "Epoch 268/500\n",
            "2/2 [==============================] - 0s 9ms/step - loss: 28.8433 - mse: 1323.4680\n",
            "Epoch 269/500\n",
            "2/2 [==============================] - 0s 7ms/step - loss: 33.0005 - mse: 1635.1765\n",
            "Epoch 270/500\n",
            "2/2 [==============================] - 0s 6ms/step - loss: 9.7963 - mse: 133.7338\n",
            "Epoch 271/500\n",
            "2/2 [==============================] - 0s 6ms/step - loss: 7.7326 - mse: 112.8751\n",
            "Epoch 272/500\n",
            "2/2 [==============================] - 0s 8ms/step - loss: 28.5061 - mse: 1116.0433\n",
            "Epoch 273/500\n",
            "2/2 [==============================] - 0s 6ms/step - loss: 7.4202 - mse: 83.7589\n",
            "Epoch 274/500\n",
            "2/2 [==============================] - 0s 14ms/step - loss: 6.3561 - mse: 45.4045\n",
            "Epoch 275/500\n",
            "2/2 [==============================] - 0s 8ms/step - loss: 37.1702 - mse: 2119.7454\n",
            "Epoch 276/500\n",
            "2/2 [==============================] - 0s 7ms/step - loss: 8.3178 - mse: 109.0801\n",
            "Epoch 277/500\n",
            "2/2 [==============================] - 0s 7ms/step - loss: 27.9467 - mse: 1070.8682\n",
            "Epoch 278/500\n",
            "2/2 [==============================] - 0s 8ms/step - loss: 10.6340 - mse: 213.5529\n",
            "Epoch 279/500\n",
            "2/2 [==============================] - 0s 7ms/step - loss: 16.0734 - mse: 386.8916\n",
            "Epoch 280/500\n",
            "2/2 [==============================] - 0s 8ms/step - loss: 21.1529 - mse: 677.3375\n",
            "Epoch 281/500\n",
            "2/2 [==============================] - 0s 7ms/step - loss: 23.9979 - mse: 880.9130\n",
            "Epoch 282/500\n",
            "2/2 [==============================] - 0s 6ms/step - loss: 8.3271 - mse: 97.7952\n",
            "Epoch 283/500\n",
            "2/2 [==============================] - 0s 8ms/step - loss: 8.4811 - mse: 100.4533\n",
            "Epoch 284/500\n",
            "2/2 [==============================] - 0s 7ms/step - loss: 26.8390 - mse: 1094.6373\n",
            "Epoch 285/500\n",
            "2/2 [==============================] - 0s 6ms/step - loss: 14.3875 - mse: 328.7118\n",
            "Epoch 286/500\n",
            "2/2 [==============================] - 0s 9ms/step - loss: 4.5431 - mse: 29.7532\n",
            "Epoch 287/500\n",
            "2/2 [==============================] - 0s 6ms/step - loss: 12.9691 - mse: 241.8436\n",
            "Epoch 288/500\n",
            "2/2 [==============================] - 0s 8ms/step - loss: 24.7399 - mse: 884.2225\n",
            "Epoch 289/500\n",
            "2/2 [==============================] - 0s 9ms/step - loss: 9.7039 - mse: 141.9163\n",
            "Epoch 290/500\n",
            "2/2 [==============================] - 0s 7ms/step - loss: 11.7814 - mse: 220.5872\n",
            "Epoch 291/500\n",
            "2/2 [==============================] - 0s 8ms/step - loss: 10.1169 - mse: 182.0732\n",
            "Epoch 292/500\n",
            "2/2 [==============================] - 0s 7ms/step - loss: 16.7270 - mse: 355.7273\n",
            "Epoch 293/500\n",
            "2/2 [==============================] - 0s 8ms/step - loss: 17.5524 - mse: 486.8694\n",
            "Epoch 294/500\n",
            "2/2 [==============================] - 0s 9ms/step - loss: 30.0142 - mse: 1439.3318\n",
            "Epoch 295/500\n",
            "2/2 [==============================] - 0s 6ms/step - loss: 8.0537 - mse: 84.8389\n",
            "Epoch 296/500\n",
            "2/2 [==============================] - 0s 7ms/step - loss: 16.2362 - mse: 383.7206\n",
            "Epoch 297/500\n",
            "2/2 [==============================] - 0s 9ms/step - loss: 14.4826 - mse: 291.1054\n",
            "Epoch 298/500\n",
            "2/2 [==============================] - 0s 10ms/step - loss: 27.0074 - mse: 1030.2434\n",
            "Epoch 299/500\n",
            "2/2 [==============================] - 0s 9ms/step - loss: 11.0576 - mse: 202.0042\n",
            "Epoch 300/500\n",
            "2/2 [==============================] - 0s 6ms/step - loss: 7.6807 - mse: 83.3307\n",
            "Epoch 301/500\n",
            "2/2 [==============================] - 0s 6ms/step - loss: 21.9575 - mse: 669.0758\n",
            "Epoch 302/500\n",
            "2/2 [==============================] - 0s 6ms/step - loss: 7.5613 - mse: 77.2078\n",
            "Epoch 303/500\n",
            "2/2 [==============================] - 0s 9ms/step - loss: 18.5760 - mse: 504.5682\n",
            "Epoch 304/500\n",
            "2/2 [==============================] - 0s 8ms/step - loss: 12.3721 - mse: 233.4512\n",
            "Epoch 305/500\n",
            "2/2 [==============================] - 0s 8ms/step - loss: 7.5775 - mse: 85.0914\n",
            "Epoch 306/500\n",
            "2/2 [==============================] - 0s 6ms/step - loss: 21.7396 - mse: 665.1288\n",
            "Epoch 307/500\n",
            "2/2 [==============================] - 0s 8ms/step - loss: 8.2837 - mse: 145.3537\n",
            "Epoch 308/500\n",
            "2/2 [==============================] - 0s 7ms/step - loss: 20.9387 - mse: 671.3120\n",
            "Epoch 309/500\n",
            "2/2 [==============================] - 0s 6ms/step - loss: 19.2456 - mse: 531.0252\n",
            "Epoch 310/500\n",
            "2/2 [==============================] - 0s 8ms/step - loss: 6.0317 - mse: 75.0589\n",
            "Epoch 311/500\n",
            "2/2 [==============================] - 0s 7ms/step - loss: 7.8979 - mse: 115.5032\n",
            "Epoch 312/500\n",
            "2/2 [==============================] - 0s 10ms/step - loss: 30.5663 - mse: 1288.6571\n",
            "Epoch 313/500\n",
            "2/2 [==============================] - 0s 8ms/step - loss: 5.2160 - mse: 46.8485\n",
            "Epoch 314/500\n",
            "2/2 [==============================] - 0s 6ms/step - loss: 12.7152 - mse: 269.2975\n",
            "Epoch 315/500\n",
            "2/2 [==============================] - 0s 7ms/step - loss: 13.0607 - mse: 273.9477\n",
            "Epoch 316/500\n",
            "2/2 [==============================] - 0s 8ms/step - loss: 4.7956 - mse: 29.1753\n",
            "Epoch 317/500\n",
            "2/2 [==============================] - 0s 7ms/step - loss: 27.7215 - mse: 1044.7480\n",
            "Epoch 318/500\n",
            "2/2 [==============================] - 0s 9ms/step - loss: 11.3950 - mse: 192.0827\n",
            "Epoch 319/500\n",
            "2/2 [==============================] - 0s 8ms/step - loss: 6.4100 - mse: 84.2000\n",
            "Epoch 320/500\n",
            "2/2 [==============================] - 0s 6ms/step - loss: 22.8947 - mse: 763.3929\n",
            "Epoch 321/500\n",
            "2/2 [==============================] - 0s 9ms/step - loss: 4.5574 - mse: 30.9499\n",
            "Epoch 322/500\n",
            "2/2 [==============================] - 0s 8ms/step - loss: 18.2358 - mse: 482.0385\n",
            "Epoch 323/500\n",
            "2/2 [==============================] - 0s 9ms/step - loss: 6.6844 - mse: 87.0903\n",
            "Epoch 324/500\n",
            "2/2 [==============================] - 0s 9ms/step - loss: 12.8071 - mse: 255.5732\n",
            "Epoch 325/500\n",
            "2/2 [==============================] - 0s 6ms/step - loss: 9.4711 - mse: 198.5282\n",
            "Epoch 326/500\n",
            "2/2 [==============================] - 0s 7ms/step - loss: 20.3608 - mse: 627.6811\n",
            "Epoch 327/500\n",
            "2/2 [==============================] - 0s 7ms/step - loss: 26.9134 - mse: 1032.3029\n",
            "Epoch 328/500\n",
            "2/2 [==============================] - 0s 7ms/step - loss: 11.9729 - mse: 228.9523\n",
            "Epoch 329/500\n",
            "2/2 [==============================] - 0s 7ms/step - loss: 16.7519 - mse: 425.3204\n",
            "Epoch 330/500\n",
            "2/2 [==============================] - 0s 8ms/step - loss: 7.1689 - mse: 81.9947\n",
            "Epoch 331/500\n",
            "2/2 [==============================] - 0s 7ms/step - loss: 21.6493 - mse: 716.9434\n",
            "Epoch 332/500\n",
            "2/2 [==============================] - 0s 7ms/step - loss: 12.4456 - mse: 240.2483\n",
            "Epoch 333/500\n",
            "2/2 [==============================] - 0s 7ms/step - loss: 11.9648 - mse: 226.4312\n",
            "Epoch 334/500\n",
            "2/2 [==============================] - 0s 6ms/step - loss: 8.3385 - mse: 171.2268\n",
            "Epoch 335/500\n",
            "2/2 [==============================] - 0s 8ms/step - loss: 12.5055 - mse: 280.0335\n",
            "Epoch 336/500\n",
            "2/2 [==============================] - 0s 6ms/step - loss: 32.1904 - mse: 1413.2063\n",
            "Epoch 337/500\n",
            "2/2 [==============================] - 0s 8ms/step - loss: 10.4289 - mse: 180.6400\n",
            "Epoch 338/500\n",
            "2/2 [==============================] - 0s 13ms/step - loss: 19.6356 - mse: 570.8294\n",
            "Epoch 339/500\n",
            "2/2 [==============================] - 0s 7ms/step - loss: 35.2174 - mse: 1865.9385\n",
            "Epoch 340/500\n",
            "2/2 [==============================] - 0s 6ms/step - loss: 10.0735 - mse: 159.7152\n",
            "Epoch 341/500\n",
            "2/2 [==============================] - 0s 8ms/step - loss: 13.7708 - mse: 286.6491\n",
            "Epoch 342/500\n",
            "2/2 [==============================] - 0s 9ms/step - loss: 15.3679 - mse: 330.5286\n",
            "Epoch 343/500\n",
            "2/2 [==============================] - 0s 12ms/step - loss: 11.0048 - mse: 167.6848\n",
            "Epoch 344/500\n",
            "2/2 [==============================] - 0s 7ms/step - loss: 9.9768 - mse: 211.6161\n",
            "Epoch 345/500\n",
            "2/2 [==============================] - 0s 6ms/step - loss: 30.9824 - mse: 1349.5242\n",
            "Epoch 346/500\n",
            "2/2 [==============================] - 0s 6ms/step - loss: 10.6934 - mse: 255.6055\n",
            "Epoch 347/500\n",
            "2/2 [==============================] - 0s 11ms/step - loss: 25.6713 - mse: 922.2821\n",
            "Epoch 348/500\n",
            "2/2 [==============================] - 0s 6ms/step - loss: 13.0447 - mse: 265.5177\n",
            "Epoch 349/500\n",
            "2/2 [==============================] - 0s 10ms/step - loss: 13.1363 - mse: 249.8073\n",
            "Epoch 350/500\n",
            "2/2 [==============================] - 0s 7ms/step - loss: 15.4435 - mse: 331.6161\n",
            "Epoch 351/500\n",
            "2/2 [==============================] - 0s 6ms/step - loss: 32.9331 - mse: 1522.0261\n",
            "Epoch 352/500\n",
            "2/2 [==============================] - 0s 7ms/step - loss: 14.1814 - mse: 282.1819\n",
            "Epoch 353/500\n",
            "2/2 [==============================] - 0s 10ms/step - loss: 15.9023 - mse: 372.2737\n",
            "Epoch 354/500\n",
            "2/2 [==============================] - 0s 8ms/step - loss: 19.0460 - mse: 532.5651\n",
            "Epoch 355/500\n",
            "2/2 [==============================] - 0s 6ms/step - loss: 34.2470 - mse: 1798.2350\n",
            "Epoch 356/500\n",
            "2/2 [==============================] - 0s 8ms/step - loss: 7.7525 - mse: 92.2973\n",
            "Epoch 357/500\n",
            "2/2 [==============================] - 0s 8ms/step - loss: 25.2886 - mse: 980.5288\n",
            "Epoch 358/500\n",
            "2/2 [==============================] - 0s 9ms/step - loss: 22.7672 - mse: 748.5119\n",
            "Epoch 359/500\n",
            "2/2 [==============================] - 0s 7ms/step - loss: 8.9177 - mse: 200.2514\n",
            "Epoch 360/500\n",
            "2/2 [==============================] - 0s 6ms/step - loss: 21.4615 - mse: 686.3016\n",
            "Epoch 361/500\n",
            "2/2 [==============================] - 0s 7ms/step - loss: 20.6381 - mse: 618.8328\n",
            "Epoch 362/500\n",
            "2/2 [==============================] - 0s 7ms/step - loss: 7.1316 - mse: 70.0775\n",
            "Epoch 363/500\n",
            "2/2 [==============================] - 0s 10ms/step - loss: 25.8102 - mse: 995.1572\n",
            "Epoch 364/500\n",
            "2/2 [==============================] - 0s 6ms/step - loss: 32.2324 - mse: 1528.4878\n",
            "Epoch 365/500\n",
            "2/2 [==============================] - 0s 8ms/step - loss: 10.0639 - mse: 162.6193\n",
            "Epoch 366/500\n",
            "2/2 [==============================] - 0s 6ms/step - loss: 9.7161 - mse: 227.6403\n",
            "Epoch 367/500\n",
            "2/2 [==============================] - 0s 6ms/step - loss: 30.4295 - mse: 1295.1453\n",
            "Epoch 368/500\n",
            "2/2 [==============================] - 0s 7ms/step - loss: 10.5341 - mse: 235.8425\n",
            "Epoch 369/500\n",
            "2/2 [==============================] - 0s 6ms/step - loss: 15.0246 - mse: 332.1819\n",
            "Epoch 370/500\n",
            "2/2 [==============================] - 0s 7ms/step - loss: 14.6821 - mse: 309.3831\n",
            "Epoch 371/500\n",
            "2/2 [==============================] - 0s 9ms/step - loss: 23.4124 - mse: 790.9711\n",
            "Epoch 372/500\n",
            "2/2 [==============================] - 0s 7ms/step - loss: 13.0483 - mse: 289.0270\n",
            "Epoch 373/500\n",
            "2/2 [==============================] - 0s 7ms/step - loss: 8.9613 - mse: 127.2473\n",
            "Epoch 374/500\n",
            "2/2 [==============================] - 0s 8ms/step - loss: 5.8899 - mse: 69.8978\n",
            "Epoch 375/500\n",
            "2/2 [==============================] - 0s 7ms/step - loss: 14.7747 - mse: 305.3961\n",
            "Epoch 376/500\n",
            "2/2 [==============================] - 0s 7ms/step - loss: 16.5150 - mse: 422.8422\n",
            "Epoch 377/500\n",
            "2/2 [==============================] - 0s 7ms/step - loss: 5.3802 - mse: 47.0738\n",
            "Epoch 378/500\n",
            "2/2 [==============================] - 0s 8ms/step - loss: 19.9766 - mse: 591.3777\n",
            "Epoch 379/500\n",
            "2/2 [==============================] - 0s 7ms/step - loss: 30.8596 - mse: 1377.2380\n",
            "Epoch 380/500\n",
            "2/2 [==============================] - 0s 8ms/step - loss: 26.8706 - mse: 1052.6997\n",
            "Epoch 381/500\n",
            "2/2 [==============================] - 0s 8ms/step - loss: 6.5861 - mse: 92.7120\n",
            "Epoch 382/500\n",
            "2/2 [==============================] - 0s 7ms/step - loss: 7.6189 - mse: 92.3629\n",
            "Epoch 383/500\n",
            "2/2 [==============================] - 0s 7ms/step - loss: 15.5170 - mse: 321.1328\n",
            "Epoch 384/500\n",
            "2/2 [==============================] - 0s 8ms/step - loss: 15.9312 - mse: 380.8472\n",
            "Epoch 385/500\n",
            "2/2 [==============================] - 0s 8ms/step - loss: 11.5780 - mse: 258.3929\n",
            "Epoch 386/500\n",
            "2/2 [==============================] - 0s 8ms/step - loss: 19.8302 - mse: 603.9534\n",
            "Epoch 387/500\n",
            "2/2 [==============================] - 0s 7ms/step - loss: 24.6623 - mse: 882.1158\n",
            "Epoch 388/500\n",
            "2/2 [==============================] - 0s 8ms/step - loss: 8.2938 - mse: 109.7215\n",
            "Epoch 389/500\n",
            "2/2 [==============================] - 0s 7ms/step - loss: 10.8339 - mse: 189.6486\n",
            "Epoch 390/500\n",
            "2/2 [==============================] - 0s 8ms/step - loss: 4.2485 - mse: 26.3867\n",
            "Epoch 391/500\n",
            "2/2 [==============================] - 0s 7ms/step - loss: 13.1795 - mse: 278.0782\n",
            "Epoch 392/500\n",
            "2/2 [==============================] - 0s 14ms/step - loss: 15.8400 - mse: 398.6029\n",
            "Epoch 393/500\n",
            "2/2 [==============================] - 0s 7ms/step - loss: 7.5642 - mse: 161.4729\n",
            "Epoch 394/500\n",
            "2/2 [==============================] - 0s 8ms/step - loss: 14.1188 - mse: 272.3854\n",
            "Epoch 395/500\n",
            "2/2 [==============================] - 0s 7ms/step - loss: 28.4888 - mse: 1126.7585\n",
            "Epoch 396/500\n",
            "2/2 [==============================] - 0s 7ms/step - loss: 8.5547 - mse: 115.7247\n",
            "Epoch 397/500\n",
            "2/2 [==============================] - 0s 7ms/step - loss: 11.2480 - mse: 231.1162\n",
            "Epoch 398/500\n",
            "2/2 [==============================] - 0s 7ms/step - loss: 6.9498 - mse: 79.4773\n",
            "Epoch 399/500\n",
            "2/2 [==============================] - 0s 7ms/step - loss: 14.0462 - mse: 310.7965\n",
            "Epoch 400/500\n",
            "2/2 [==============================] - 0s 8ms/step - loss: 6.7320 - mse: 60.9855\n",
            "Epoch 401/500\n",
            "2/2 [==============================] - 0s 7ms/step - loss: 7.5363 - mse: 96.6477\n",
            "Epoch 402/500\n",
            "2/2 [==============================] - 0s 8ms/step - loss: 19.4839 - mse: 524.3192\n",
            "Epoch 403/500\n",
            "2/2 [==============================] - 0s 7ms/step - loss: 10.4898 - mse: 249.3152\n",
            "Epoch 404/500\n",
            "2/2 [==============================] - 0s 6ms/step - loss: 23.2229 - mse: 755.3192\n",
            "Epoch 405/500\n",
            "2/2 [==============================] - 0s 7ms/step - loss: 17.4842 - mse: 472.9640\n",
            "Epoch 406/500\n",
            "2/2 [==============================] - 0s 7ms/step - loss: 6.8910 - mse: 73.0442\n",
            "Epoch 407/500\n",
            "2/2 [==============================] - 0s 7ms/step - loss: 11.9735 - mse: 245.1000\n",
            "Epoch 408/500\n",
            "2/2 [==============================] - 0s 7ms/step - loss: 7.1345 - mse: 79.5181\n",
            "Epoch 409/500\n",
            "2/2 [==============================] - 0s 7ms/step - loss: 23.4787 - mse: 825.3060\n",
            "Epoch 410/500\n",
            "2/2 [==============================] - 0s 7ms/step - loss: 12.4043 - mse: 263.1219\n",
            "Epoch 411/500\n",
            "2/2 [==============================] - 0s 7ms/step - loss: 15.2010 - mse: 298.9640\n",
            "Epoch 412/500\n",
            "2/2 [==============================] - 0s 8ms/step - loss: 22.3105 - mse: 756.2023\n",
            "Epoch 413/500\n",
            "2/2 [==============================] - 0s 8ms/step - loss: 15.6929 - mse: 362.1522\n",
            "Epoch 414/500\n",
            "2/2 [==============================] - 0s 12ms/step - loss: 6.1461 - mse: 87.4594\n",
            "Epoch 415/500\n",
            "2/2 [==============================] - 0s 8ms/step - loss: 13.2565 - mse: 240.5589\n",
            "Epoch 416/500\n",
            "2/2 [==============================] - 0s 6ms/step - loss: 27.5014 - mse: 1043.1594\n",
            "Epoch 417/500\n",
            "2/2 [==============================] - 0s 8ms/step - loss: 10.4339 - mse: 202.8722\n",
            "Epoch 418/500\n",
            "2/2 [==============================] - 0s 12ms/step - loss: 12.9026 - mse: 238.6703\n",
            "Epoch 419/500\n",
            "2/2 [==============================] - 0s 9ms/step - loss: 15.9408 - mse: 379.1830\n",
            "Epoch 420/500\n",
            "2/2 [==============================] - 0s 8ms/step - loss: 24.8558 - mse: 855.9002\n",
            "Epoch 421/500\n",
            "2/2 [==============================] - 0s 7ms/step - loss: 17.1254 - mse: 433.3508\n",
            "Epoch 422/500\n",
            "2/2 [==============================] - 0s 7ms/step - loss: 7.8632 - mse: 153.2605\n",
            "Epoch 423/500\n",
            "2/2 [==============================] - 0s 6ms/step - loss: 25.4848 - mse: 914.2719\n",
            "Epoch 424/500\n",
            "2/2 [==============================] - 0s 7ms/step - loss: 14.8664 - mse: 361.7390\n",
            "Epoch 425/500\n",
            "2/2 [==============================] - 0s 7ms/step - loss: 7.1220 - mse: 74.9008\n",
            "Epoch 426/500\n",
            "2/2 [==============================] - 0s 6ms/step - loss: 20.0435 - mse: 556.1603\n",
            "Epoch 427/500\n",
            "2/2 [==============================] - 0s 7ms/step - loss: 6.2744 - mse: 86.6154\n",
            "Epoch 428/500\n",
            "2/2 [==============================] - 0s 9ms/step - loss: 12.5764 - mse: 269.4460\n",
            "Epoch 429/500\n",
            "2/2 [==============================] - 0s 6ms/step - loss: 12.0065 - mse: 228.3743\n",
            "Epoch 430/500\n",
            "2/2 [==============================] - 0s 6ms/step - loss: 11.0170 - mse: 241.9524\n",
            "Epoch 431/500\n",
            "2/2 [==============================] - 0s 7ms/step - loss: 9.9611 - mse: 193.4413\n",
            "Epoch 432/500\n",
            "2/2 [==============================] - 0s 7ms/step - loss: 13.2602 - mse: 288.3808\n",
            "Epoch 433/500\n",
            "2/2 [==============================] - 0s 7ms/step - loss: 11.4205 - mse: 291.5143\n",
            "Epoch 434/500\n",
            "2/2 [==============================] - 0s 6ms/step - loss: 30.4548 - mse: 1300.8823\n",
            "Epoch 435/500\n",
            "2/2 [==============================] - 0s 7ms/step - loss: 10.5470 - mse: 278.3344\n",
            "Epoch 436/500\n",
            "2/2 [==============================] - 0s 7ms/step - loss: 28.9485 - mse: 1221.1326\n",
            "Epoch 437/500\n",
            "2/2 [==============================] - 0s 8ms/step - loss: 8.6943 - mse: 206.6129\n",
            "Epoch 438/500\n",
            "2/2 [==============================] - 0s 9ms/step - loss: 12.7652 - mse: 261.3999\n",
            "Epoch 439/500\n",
            "2/2 [==============================] - 0s 7ms/step - loss: 33.7174 - mse: 1573.8699\n",
            "Epoch 440/500\n",
            "2/2 [==============================] - 0s 7ms/step - loss: 15.1770 - mse: 297.8278\n",
            "Epoch 441/500\n",
            "2/2 [==============================] - 0s 8ms/step - loss: 17.5436 - mse: 492.6318\n",
            "Epoch 442/500\n",
            "2/2 [==============================] - 0s 7ms/step - loss: 22.4240 - mse: 757.3661\n",
            "Epoch 443/500\n",
            "2/2 [==============================] - 0s 8ms/step - loss: 23.3024 - mse: 764.5076\n",
            "Epoch 444/500\n",
            "2/2 [==============================] - 0s 9ms/step - loss: 10.7816 - mse: 198.3816\n",
            "Epoch 445/500\n",
            "2/2 [==============================] - 0s 7ms/step - loss: 14.9951 - mse: 320.7913\n",
            "Epoch 446/500\n",
            "2/2 [==============================] - 0s 7ms/step - loss: 18.1102 - mse: 521.5382\n",
            "Epoch 447/500\n",
            "2/2 [==============================] - 0s 7ms/step - loss: 5.3639 - mse: 51.7289\n",
            "Epoch 448/500\n",
            "2/2 [==============================] - 0s 8ms/step - loss: 10.1654 - mse: 249.7650\n",
            "Epoch 449/500\n",
            "2/2 [==============================] - 0s 7ms/step - loss: 14.0949 - mse: 279.6925\n",
            "Epoch 450/500\n",
            "2/2 [==============================] - 0s 7ms/step - loss: 16.8692 - mse: 430.2741\n",
            "Epoch 451/500\n",
            "2/2 [==============================] - 0s 7ms/step - loss: 14.3396 - mse: 307.5399\n",
            "Epoch 452/500\n",
            "2/2 [==============================] - 0s 7ms/step - loss: 30.6943 - mse: 1335.6483\n",
            "Epoch 453/500\n",
            "2/2 [==============================] - 0s 7ms/step - loss: 8.4236 - mse: 200.9902\n",
            "Epoch 454/500\n",
            "2/2 [==============================] - 0s 12ms/step - loss: 27.6109 - mse: 1065.2532\n",
            "Epoch 455/500\n",
            "2/2 [==============================] - 0s 7ms/step - loss: 10.0492 - mse: 191.7620\n",
            "Epoch 456/500\n",
            "2/2 [==============================] - 0s 8ms/step - loss: 14.5762 - mse: 288.3092\n",
            "Epoch 457/500\n",
            "2/2 [==============================] - 0s 8ms/step - loss: 17.7286 - mse: 478.6357\n",
            "Epoch 458/500\n",
            "2/2 [==============================] - 0s 9ms/step - loss: 14.0401 - mse: 270.1790\n",
            "Epoch 459/500\n",
            "2/2 [==============================] - 0s 8ms/step - loss: 25.9289 - mse: 970.3411\n",
            "Epoch 460/500\n",
            "2/2 [==============================] - 0s 8ms/step - loss: 14.9679 - mse: 333.6629\n",
            "Epoch 461/500\n",
            "2/2 [==============================] - 0s 8ms/step - loss: 11.9691 - mse: 264.6013\n",
            "Epoch 462/500\n",
            "2/2 [==============================] - 0s 9ms/step - loss: 13.2860 - mse: 244.2766\n",
            "Epoch 463/500\n",
            "2/2 [==============================] - 0s 9ms/step - loss: 29.4786 - mse: 1213.9543\n",
            "Epoch 464/500\n",
            "2/2 [==============================] - 0s 9ms/step - loss: 3.2600 - mse: 14.4667\n",
            "Epoch 465/500\n",
            "2/2 [==============================] - 0s 7ms/step - loss: 7.6221 - mse: 153.1858\n",
            "Epoch 466/500\n",
            "2/2 [==============================] - 0s 7ms/step - loss: 16.5419 - mse: 443.7162\n",
            "Epoch 467/500\n",
            "2/2 [==============================] - 0s 9ms/step - loss: 17.5232 - mse: 482.6102\n",
            "Epoch 468/500\n",
            "2/2 [==============================] - 0s 8ms/step - loss: 12.9349 - mse: 246.1964\n",
            "Epoch 469/500\n",
            "2/2 [==============================] - 0s 9ms/step - loss: 29.2326 - mse: 1190.2405\n",
            "Epoch 470/500\n",
            "2/2 [==============================] - 0s 8ms/step - loss: 7.2791 - mse: 95.5135\n",
            "Epoch 471/500\n",
            "2/2 [==============================] - 0s 7ms/step - loss: 26.1472 - mse: 1004.7722\n",
            "Epoch 472/500\n",
            "2/2 [==============================] - 0s 7ms/step - loss: 12.4694 - mse: 240.6095\n",
            "Epoch 473/500\n",
            "2/2 [==============================] - 0s 8ms/step - loss: 14.8144 - mse: 357.4938\n",
            "Epoch 474/500\n",
            "2/2 [==============================] - 0s 8ms/step - loss: 18.7850 - mse: 548.0040\n",
            "Epoch 475/500\n",
            "2/2 [==============================] - 0s 7ms/step - loss: 12.1006 - mse: 235.9855\n",
            "Epoch 476/500\n",
            "2/2 [==============================] - 0s 8ms/step - loss: 13.7459 - mse: 263.1865\n",
            "Epoch 477/500\n",
            "2/2 [==============================] - 0s 7ms/step - loss: 30.3981 - mse: 1287.6260\n",
            "Epoch 478/500\n",
            "2/2 [==============================] - 0s 7ms/step - loss: 7.5255 - mse: 158.3503\n",
            "Epoch 479/500\n",
            "2/2 [==============================] - 0s 8ms/step - loss: 11.3731 - mse: 264.8983\n",
            "Epoch 480/500\n",
            "2/2 [==============================] - 0s 9ms/step - loss: 18.0425 - mse: 494.9820\n",
            "Epoch 481/500\n",
            "2/2 [==============================] - 0s 7ms/step - loss: 15.9187 - mse: 376.7144\n",
            "Epoch 482/500\n",
            "2/2 [==============================] - 0s 8ms/step - loss: 21.5326 - mse: 710.2689\n",
            "Epoch 483/500\n",
            "2/2 [==============================] - 0s 8ms/step - loss: 24.8910 - mse: 913.0189\n",
            "Epoch 484/500\n",
            "2/2 [==============================] - 0s 8ms/step - loss: 23.4613 - mse: 774.2126\n",
            "Epoch 485/500\n",
            "2/2 [==============================] - 0s 8ms/step - loss: 5.6973 - mse: 53.9111\n",
            "Epoch 486/500\n",
            "2/2 [==============================] - 0s 9ms/step - loss: 19.4042 - mse: 531.5336\n",
            "Epoch 487/500\n",
            "2/2 [==============================] - 0s 10ms/step - loss: 13.9830 - mse: 281.5070\n",
            "Epoch 488/500\n",
            "2/2 [==============================] - 0s 8ms/step - loss: 30.4944 - mse: 1325.3214\n",
            "Epoch 489/500\n",
            "2/2 [==============================] - 0s 8ms/step - loss: 11.7622 - mse: 238.3748\n",
            "Epoch 490/500\n",
            "2/2 [==============================] - 0s 9ms/step - loss: 12.4678 - mse: 243.9956\n",
            "Epoch 491/500\n",
            "2/2 [==============================] - 0s 9ms/step - loss: 23.6562 - mse: 840.2928\n",
            "Epoch 492/500\n",
            "2/2 [==============================] - 0s 9ms/step - loss: 20.4390 - mse: 586.8449\n",
            "Epoch 493/500\n",
            "2/2 [==============================] - 0s 9ms/step - loss: 4.9856 - mse: 48.3325\n",
            "Epoch 494/500\n",
            "2/2 [==============================] - 0s 8ms/step - loss: 12.7156 - mse: 245.2525\n",
            "Epoch 495/500\n",
            "2/2 [==============================] - 0s 9ms/step - loss: 13.4186 - mse: 240.7467\n",
            "Epoch 496/500\n",
            "2/2 [==============================] - 0s 8ms/step - loss: 12.7021 - mse: 241.6328\n",
            "Epoch 497/500\n",
            "2/2 [==============================] - 0s 7ms/step - loss: 17.6733 - mse: 517.8057\n",
            "Epoch 498/500\n",
            "2/2 [==============================] - 0s 8ms/step - loss: 23.4475 - mse: 807.8394\n",
            "Epoch 499/500\n",
            "2/2 [==============================] - 0s 7ms/step - loss: 9.1785 - mse: 130.1363\n",
            "Epoch 500/500\n",
            "2/2 [==============================] - 0s 7ms/step - loss: 14.3791 - mse: 273.1477\n"
          ]
        },
        {
          "data": {
            "text/plain": [
              "<keras.src.callbacks.History at 0x7ea2c4e4c3a0>"
            ]
          },
          "execution_count": 39,
          "metadata": {},
          "output_type": "execute_result"
        }
      ],
      "source": [
        "model_3 = tf.keras.Sequential([\n",
        "    tf.keras.layers.Dense(10),\n",
        "    tf.keras.layers.Dense(1)\n",
        "])\n",
        "\n",
        "model_3.compile(loss=tf.keras.losses.mae,optimizer=tf.keras.optimizers.SGD(),metrics=['mse'])\n",
        "\n",
        "model_3.fit(tf.expand_dims(X_train,axis=-1),Y_train,epochs=500)"
      ]
    },
    {
      "cell_type": "code",
      "execution_count": null,
      "metadata": {
        "colab": {
          "background_save": true,
          "base_uri": "https://localhost:8080/",
          "height": 616
        },
        "id": "PbBfkqP7THZ3",
        "outputId": "adf9fb48-fdce-4391-c9c1-b8da1884faee"
      },
      "outputs": [
        {
          "name": "stderr",
          "output_type": "stream",
          "text": [
            "WARNING:tensorflow:5 out of the last 5 calls to <function Model.make_predict_function.<locals>.predict_function at 0x7ea2c4e35360> triggered tf.function retracing. Tracing is expensive and the excessive number of tracings could be due to (1) creating @tf.function repeatedly in a loop, (2) passing tensors with different shapes, (3) passing Python objects instead of tensors. For (1), please define your @tf.function outside of the loop. For (2), @tf.function has reduce_retracing=True option that can avoid unnecessary retracing. For (3), please refer to https://www.tensorflow.org/guide/function#controlling_retracing and https://www.tensorflow.org/api_docs/python/tf/function for  more details.\n"
          ]
        },
        {
          "name": "stdout",
          "output_type": "stream",
          "text": [
            "1/1 [==============================] - 0s 126ms/step\n"
          ]
        },
        {
          "data": {
            "image/png": "[encoded data removed]",
            "text/plain": [
              "<Figure size 1000x700 with 1 Axes>"
            ]
          },
          "metadata": {},
          "output_type": "display_data"
        }
      ],
      "source": [
        "y_predict_3 = model_3.predict(X_test)\n",
        "plot_predictions(predictions=y_predict_3)"
      ]
    }
  ],
  "metadata": {
    "colab": {
      "provenance": [],
      "authorship_tag": "ABX9TyP039BjS0LrlhImA6AViLnD",
      "include_colab_link": true
    },
    "kernelspec": {
      "display_name": "Python 3",
      "name": "python3"
    },
    "language_info": {
      "name": "python"
    }
  },
  "nbformat": 4,
  "nbformat_minor": 0
}